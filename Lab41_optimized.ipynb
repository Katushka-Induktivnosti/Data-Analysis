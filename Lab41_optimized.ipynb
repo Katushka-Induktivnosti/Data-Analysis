{
 "cells": [
  {
   "cell_type": "code",
   "execution_count": 1,
   "id": "558f8a47",
   "metadata": {},
   "outputs": [],
   "source": [
    "import pandas as pd \n",
    "import numpy as np \n",
    "import matplotlib.pyplot as plt\n",
    "from sklearn.preprocessing import MinMaxScaler\n",
    "from sklearn.model_selection import train_test_split\n",
    "import tensorflow as tf\n",
    "from tensorflow import keras\n",
    "from tensorflow.keras import layers\n",
    "from tensorflow.keras.models import Sequential\n",
    "from tensorflow.keras.callbacks import  EarlyStopping\n",
    "from tensorflow.keras.layers import Dense\n",
    "from tensorflow.keras.optimizers import Adam\n",
    "import matplotlib.pyplot as plt\n",
    "import argparse"
   ]
  },
  {
   "cell_type": "code",
   "execution_count": 2,
   "id": "a51a59fb",
   "metadata": {},
   "outputs": [],
   "source": [
    "dfStarClassification = pd.read_csv(\"/Users/KDolp/Desktop/Физтех/Data Analysis/Lab2/Stars.csv\",sep=\",\")\n",
    "dfStarClassification['Color'] = dfStarClassification['Color'].replace(['Blue White','Blue white','Blue-white'],'Blue-White')\n",
    "dfStarClassification['Color'] = dfStarClassification['Color'].replace(['yellow-white','White-Yellow'],'Yellowish White')\n",
    "dfStarClassification['Color'] = dfStarClassification['Color'].replace(['yellowish'],'Yellowish')\n",
    "dfStarClassification['Color'] = dfStarClassification['Color'].replace(['Whitish','white'],'White')"
   ]
  },
  {
   "cell_type": "code",
   "execution_count": 3,
   "id": "edc9f675",
   "metadata": {},
   "outputs": [],
   "source": [
    "dict_type = {'0':'Red Dwarf','1': 'Brown Dwarf','2': 'White Dwarf','3': 'Main Sequence','4': 'Supergiants','5': 'Hypergiants'}\n",
    "dfStarClassification['Type'] = dfStarClassification['Type'].replace(dict_type.keys(),dict_type.values())"
   ]
  },
  {
   "cell_type": "code",
   "execution_count": 4,
   "id": "3c59de3f",
   "metadata": {},
   "outputs": [],
   "source": [
    "dfStarClassification_enc = pd.get_dummies(data=dfStarClassification.drop('Type',axis=1), columns=['Color','Spectral_Class'],drop_first= True)"
   ]
  },
  {
   "cell_type": "code",
   "execution_count": 5,
   "id": "0faf9b2f",
   "metadata": {},
   "outputs": [
    {
     "data": {
      "text/plain": [
       "(240, 18)"
      ]
     },
     "execution_count": 5,
     "metadata": {},
     "output_type": "execute_result"
    }
   ],
   "source": [
    "dfStarClassification_enc.shape"
   ]
  },
  {
   "cell_type": "code",
   "execution_count": 6,
   "id": "3731855e",
   "metadata": {},
   "outputs": [],
   "source": [
    "x = dfStarClassification_enc\n",
    "y = pd.DataFrame(dfStarClassification['Type'],columns=['Type'])"
   ]
  },
  {
   "cell_type": "code",
   "execution_count": 13,
   "id": "60b1a530",
   "metadata": {},
   "outputs": [],
   "source": [
    "xTrain,xTest,yTrain,yTest = train_test_split(x,y,test_size = 0.3)"
   ]
  },
  {
   "cell_type": "code",
   "execution_count": 14,
   "id": "043774da",
   "metadata": {},
   "outputs": [],
   "source": [
    "mm = MinMaxScaler()\n",
    "xTrain_mm = pd.DataFrame(mm.fit_transform(xTrain),columns=['Temperature', 'L', 'R', 'A_M', 'Color_Blue-White', 'Color_Orange',\n",
    "       'Color_Orange-Red', 'Color_Pale yellow orange', 'Color_Red',\n",
    "       'Color_White', 'Color_Yellowish', 'Color_Yellowish White',\n",
    "       'Spectral_Class_B', 'Spectral_Class_F', 'Spectral_Class_G',\n",
    "       'Spectral_Class_K', 'Spectral_Class_M', 'Spectral_Class_O'])\n",
    "xTest_mm = pd.DataFrame(mm.transform(xTest),columns=['Temperature', 'L', 'R', 'A_M', 'Color_Blue-White', 'Color_Orange',\n",
    "       'Color_Orange-Red', 'Color_Pale yellow orange', 'Color_Red',\n",
    "       'Color_White', 'Color_Yellowish', 'Color_Yellowish White',\n",
    "       'Spectral_Class_B', 'Spectral_Class_F', 'Spectral_Class_G',\n",
    "       'Spectral_Class_K', 'Spectral_Class_M', 'Spectral_Class_O'])"
   ]
  },
  {
   "cell_type": "code",
   "execution_count": 15,
   "id": "977dcb76",
   "metadata": {},
   "outputs": [],
   "source": [
    "yTrain = pd.get_dummies(data=yTrain,columns =['Type'])\n",
    "yTest = pd.get_dummies(data=yTest,columns =['Type'])"
   ]
  },
  {
   "cell_type": "code",
   "execution_count": 16,
   "id": "2261481e",
   "metadata": {},
   "outputs": [
    {
     "name": "stdout",
     "output_type": "stream",
     "text": [
      "Epoch 1/40\n",
      "6/6 [==============================] - 1s 57ms/step - loss: 1.0426 - accuracy: 0.5833 - val_loss: 0.6272 - val_accuracy: 0.7778\n",
      "Epoch 2/40\n",
      "6/6 [==============================] - 0s 17ms/step - loss: 0.4853 - accuracy: 0.7440 - val_loss: 0.5594 - val_accuracy: 0.7083\n",
      "Epoch 3/40\n",
      "6/6 [==============================] - 0s 17ms/step - loss: 0.3789 - accuracy: 0.8214 - val_loss: 0.4720 - val_accuracy: 0.8472\n",
      "Epoch 4/40\n",
      "6/6 [==============================] - 0s 19ms/step - loss: 0.3806 - accuracy: 0.8512 - val_loss: 0.2733 - val_accuracy: 0.8194\n",
      "Epoch 5/40\n",
      "6/6 [==============================] - 0s 17ms/step - loss: 0.2136 - accuracy: 0.9226 - val_loss: 0.3708 - val_accuracy: 0.8333\n",
      "Epoch 6/40\n",
      "6/6 [==============================] - 0s 17ms/step - loss: 0.1369 - accuracy: 0.9583 - val_loss: 0.2007 - val_accuracy: 0.9306\n",
      "Epoch 7/40\n",
      "6/6 [==============================] - 0s 17ms/step - loss: 0.1213 - accuracy: 0.9286 - val_loss: 0.2962 - val_accuracy: 0.8472\n",
      "Epoch 8/40\n",
      "6/6 [==============================] - 0s 16ms/step - loss: 0.1117 - accuracy: 0.9464 - val_loss: 0.2111 - val_accuracy: 0.9167\n",
      "Epoch 9/40\n",
      "6/6 [==============================] - 0s 18ms/step - loss: 0.0774 - accuracy: 0.9821 - val_loss: 0.1673 - val_accuracy: 0.9167\n",
      "Epoch 10/40\n",
      "6/6 [==============================] - 0s 19ms/step - loss: 0.0749 - accuracy: 0.9821 - val_loss: 0.1380 - val_accuracy: 0.9306\n",
      "Epoch 11/40\n",
      "6/6 [==============================] - 0s 18ms/step - loss: 0.0658 - accuracy: 0.9821 - val_loss: 0.2485 - val_accuracy: 0.9028\n",
      "Epoch 12/40\n",
      "6/6 [==============================] - 0s 18ms/step - loss: 0.1030 - accuracy: 0.9464 - val_loss: 0.1415 - val_accuracy: 0.9167\n",
      "Epoch 13/40\n",
      "6/6 [==============================] - 0s 17ms/step - loss: 0.0737 - accuracy: 0.9643 - val_loss: 0.1465 - val_accuracy: 0.9306\n"
     ]
    }
   ],
   "source": [
    "model_nn = keras.Sequential([keras.layers.Dense(700,kernel_initializer = 'he_uniform',input_shape=(18,),activation = 'relu'),\n",
    "                            keras.layers.Dense(800,kernel_initializer = 'he_uniform',activation = 'relu'),\n",
    "                            keras.layers.Dense(900,kernel_initializer = 'he_uniform',activation = 'relu'),\n",
    "                            keras.layers.Dense(6,kernel_initializer = 'glorot_uniform',activation = 'softmax'),\n",
    "                            ])\n",
    "\n",
    "es = EarlyStopping(patience=3,restore_best_weights= True)\n",
    "\n",
    "model_nn.compile(loss = \"categorical_crossentropy\",metrics = ['accuracy'],optimizer = 'Adam')\n",
    "history = model_nn.fit(xTrain_mm,yTrain,validation_data = (xTest_mm,yTest),epochs = 40,callbacks = es)"
   ]
  },
  {
   "cell_type": "code",
   "execution_count": 17,
   "id": "1e720ddc",
   "metadata": {},
   "outputs": [
    {
     "name": "stdout",
     "output_type": "stream",
     "text": [
      "3/3 [==============================] - 0s 5ms/step - loss: 0.1380 - accuracy: 0.9306\n",
      "test_accuracy: 0.9305555820465088\n"
     ]
    }
   ],
   "source": [
    "test_loss,test_acc= model_nn.evaluate(xTest_mm,yTest)\n",
    "print(\"test_accuracy:\",test_acc)"
   ]
  },
  {
   "cell_type": "code",
   "execution_count": 18,
   "id": "4862d21f",
   "metadata": {},
   "outputs": [
    {
     "data": {
      "image/png": "[encoded data removed]",
      "text/plain": [
       "<Figure size 432x288 with 1 Axes>"
      ]
     },
     "metadata": {
      "needs_background": "light"
     },
     "output_type": "display_data"
    }
   ],
   "source": [
    "plt.plot(history.history['loss'])\n",
    "plt.plot(history.history['val_loss'])\n",
    "plt.title('Model Performance')\n",
    "plt.ylabel('loss')\n",
    "plt.xlabel('epoch')\n",
    "plt.legend(['training_loss', 'validation_loss'], loc='upper right')\n",
    "plt.show()"
   ]
  },
  {
   "cell_type": "code",
   "execution_count": null,
   "id": "5713a5b0",
   "metadata": {},
   "outputs": [],
   "source": []
  }
 ],
 "metadata": {
  "kernelspec": {
   "display_name": "Python 3",
   "language": "python",
   "name": "python3"
  },
  "language_info": {
   "codemirror_mode": {
    "name": "ipython",
    "version": 3
   },
   "file_extension": ".py",
   "mimetype": "text/x-python",
   "name": "python",
   "nbconvert_exporter": "python",
   "pygments_lexer": "ipython3",
   "version": "3.8.8"
  }
 },
 "nbformat": 4,
 "nbformat_minor": 5
}
