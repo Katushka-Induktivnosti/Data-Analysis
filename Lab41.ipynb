{
 "cells": [
  {
   "cell_type": "code",
   "execution_count": 1,
   "id": "558f8a47",
   "metadata": {},
   "outputs": [],
   "source": [
    "import pandas as pd \n",
    "import numpy as np \n",
    "import matplotlib.pyplot as plt\n",
    "from sklearn.preprocessing import MinMaxScaler\n",
    "from sklearn.model_selection import train_test_split\n",
    "import tensorflow as tf\n",
    "from tensorflow import keras\n",
    "from tensorflow.keras import layers\n",
    "from tensorflow.keras.models import Sequential\n",
    "from tensorflow.keras.layers import Dense\n",
    "from tensorflow.keras.optimizers import SGD\n",
    "import matplotlib.pyplot as plt\n",
    "import argparse"
   ]
  },
  {
   "cell_type": "code",
   "execution_count": 2,
   "id": "a51a59fb",
   "metadata": {},
   "outputs": [],
   "source": [
    "dfStarClassification = pd.read_csv(\"/Users/KDolp/Desktop/Физтех/Data Analysis/Lab2/Stars.csv\",sep=\",\")\n",
    "dfStarClassification['Color'] = dfStarClassification['Color'].replace(['Blue White','Blue white','Blue-white'],'Blue-White')\n",
    "dfStarClassification['Color'] = dfStarClassification['Color'].replace(['yellow-white','White-Yellow'],'Yellowish White')\n",
    "dfStarClassification['Color'] = dfStarClassification['Color'].replace(['yellowish'],'Yellowish')\n",
    "dfStarClassification['Color'] = dfStarClassification['Color'].replace(['Whitish','white'],'White')"
   ]
  },
  {
   "cell_type": "code",
   "execution_count": 3,
   "id": "edc9f675",
   "metadata": {},
   "outputs": [],
   "source": [
    "dict_type = {'0':'Red Dwarf','1': 'Brown Dwarf','2': 'White Dwarf','3': 'Main Sequence','4': 'Supergiants','5': 'Hypergiants'}\n",
    "dfStarClassification['Type'] = dfStarClassification['Type'].replace(dict_type.keys(),dict_type.values())"
   ]
  },
  {
   "cell_type": "code",
   "execution_count": 4,
   "id": "3c59de3f",
   "metadata": {},
   "outputs": [],
   "source": [
    "dfStarClassification_enc = pd.get_dummies(data=dfStarClassification.drop('Type',axis=1), columns=['Color','Spectral_Class'],drop_first= True)"
   ]
  },
  {
   "cell_type": "code",
   "execution_count": 5,
   "id": "0faf9b2f",
   "metadata": {},
   "outputs": [
    {
     "data": {
      "text/plain": [
       "(240, 18)"
      ]
     },
     "execution_count": 5,
     "metadata": {},
     "output_type": "execute_result"
    }
   ],
   "source": [
    "dfStarClassification_enc.shape"
   ]
  },
  {
   "cell_type": "code",
   "execution_count": 6,
   "id": "3731855e",
   "metadata": {},
   "outputs": [],
   "source": [
    "x = dfStarClassification_enc\n",
    "y = pd.DataFrame(dfStarClassification['Type'],columns=['Type'])"
   ]
  },
  {
   "cell_type": "code",
   "execution_count": 7,
   "id": "60b1a530",
   "metadata": {},
   "outputs": [],
   "source": [
    "xTrain,xTest,yTrain,yTest = train_test_split(x,y,test_size = 0.1)"
   ]
  },
  {
   "cell_type": "code",
   "execution_count": 8,
   "id": "043774da",
   "metadata": {},
   "outputs": [],
   "source": [
    "mm = MinMaxScaler()\n",
    "xTrain_mm = pd.DataFrame(mm.fit_transform(xTrain),columns=['Temperature', 'L', 'R', 'A_M', 'Color_Blue-White', 'Color_Orange',\n",
    "       'Color_Orange-Red', 'Color_Pale yellow orange', 'Color_Red',\n",
    "       'Color_White', 'Color_Yellowish', 'Color_Yellowish White',\n",
    "       'Spectral_Class_B', 'Spectral_Class_F', 'Spectral_Class_G',\n",
    "       'Spectral_Class_K', 'Spectral_Class_M', 'Spectral_Class_O'])\n",
    "xTest_mm = pd.DataFrame(mm.transform(xTest),columns=['Temperature', 'L', 'R', 'A_M', 'Color_Blue-White', 'Color_Orange',\n",
    "       'Color_Orange-Red', 'Color_Pale yellow orange', 'Color_Red',\n",
    "       'Color_White', 'Color_Yellowish', 'Color_Yellowish White',\n",
    "       'Spectral_Class_B', 'Spectral_Class_F', 'Spectral_Class_G',\n",
    "       'Spectral_Class_K', 'Spectral_Class_M', 'Spectral_Class_O'])"
   ]
  },
  {
   "cell_type": "code",
   "execution_count": 9,
   "id": "977dcb76",
   "metadata": {},
   "outputs": [],
   "source": [
    "yTrain = pd.get_dummies(data=yTrain,columns =['Type'])\n",
    "yTest = pd.get_dummies(data=yTest,columns =['Type'])"
   ]
  },
  {
   "cell_type": "code",
   "execution_count": 10,
   "id": "2261481e",
   "metadata": {},
   "outputs": [
    {
     "name": "stdout",
     "output_type": "stream",
     "text": [
      "Epoch 1/40\n",
      "7/7 [==============================] - 1s 63ms/step - loss: 1.5249 - accuracy: 0.3889 - val_loss: 1.3393 - val_accuracy: 0.5417\n",
      "Epoch 2/40\n",
      "7/7 [==============================] - 0s 23ms/step - loss: 1.1777 - accuracy: 0.7176 - val_loss: 1.0697 - val_accuracy: 0.7917\n",
      "Epoch 3/40\n",
      "7/7 [==============================] - 0s 20ms/step - loss: 1.0039 - accuracy: 0.6667 - val_loss: 0.9232 - val_accuracy: 0.7500\n",
      "Epoch 4/40\n",
      "7/7 [==============================] - 0s 14ms/step - loss: 0.8791 - accuracy: 0.7407 - val_loss: 0.8673 - val_accuracy: 0.5833\n",
      "Epoch 5/40\n",
      "7/7 [==============================] - 0s 14ms/step - loss: 0.7859 - accuracy: 0.7593 - val_loss: 0.7519 - val_accuracy: 0.8750\n",
      "Epoch 6/40\n",
      "7/7 [==============================] - 0s 14ms/step - loss: 0.7158 - accuracy: 0.7731 - val_loss: 0.7266 - val_accuracy: 0.6250\n",
      "Epoch 7/40\n",
      "7/7 [==============================] - 0s 14ms/step - loss: 0.6753 - accuracy: 0.7546 - val_loss: 0.6978 - val_accuracy: 0.6250\n",
      "Epoch 8/40\n",
      "7/7 [==============================] - 0s 14ms/step - loss: 0.6216 - accuracy: 0.7778 - val_loss: 0.5873 - val_accuracy: 0.8333\n",
      "Epoch 9/40\n",
      "7/7 [==============================] - 0s 14ms/step - loss: 0.5915 - accuracy: 0.8519 - val_loss: 0.5828 - val_accuracy: 0.8333\n",
      "Epoch 10/40\n",
      "7/7 [==============================] - 0s 14ms/step - loss: 0.5634 - accuracy: 0.8056 - val_loss: 0.5579 - val_accuracy: 0.7917\n",
      "Epoch 11/40\n",
      "7/7 [==============================] - 0s 14ms/step - loss: 0.5439 - accuracy: 0.7824 - val_loss: 0.5212 - val_accuracy: 0.9167\n",
      "Epoch 12/40\n",
      "7/7 [==============================] - 0s 14ms/step - loss: 0.5152 - accuracy: 0.8565 - val_loss: 0.5302 - val_accuracy: 0.6667\n",
      "Epoch 13/40\n",
      "7/7 [==============================] - 0s 14ms/step - loss: 0.4930 - accuracy: 0.8380 - val_loss: 0.5268 - val_accuracy: 0.6667\n",
      "Epoch 14/40\n",
      "7/7 [==============================] - 0s 14ms/step - loss: 0.4742 - accuracy: 0.8287 - val_loss: 0.4484 - val_accuracy: 0.9167\n",
      "Epoch 15/40\n",
      "7/7 [==============================] - 0s 14ms/step - loss: 0.4657 - accuracy: 0.8472 - val_loss: 0.4267 - val_accuracy: 0.8750\n",
      "Epoch 16/40\n",
      "7/7 [==============================] - 0s 14ms/step - loss: 0.4477 - accuracy: 0.8611 - val_loss: 0.4332 - val_accuracy: 0.8750\n",
      "Epoch 17/40\n",
      "7/7 [==============================] - 0s 15ms/step - loss: 0.4384 - accuracy: 0.8565 - val_loss: 0.4522 - val_accuracy: 0.7083\n",
      "Epoch 18/40\n",
      "7/7 [==============================] - 0s 15ms/step - loss: 0.4121 - accuracy: 0.8657 - val_loss: 0.3746 - val_accuracy: 0.8333\n",
      "Epoch 19/40\n",
      "7/7 [==============================] - 0s 15ms/step - loss: 0.4178 - accuracy: 0.8843 - val_loss: 0.3992 - val_accuracy: 0.7917\n",
      "Epoch 20/40\n",
      "7/7 [==============================] - 0s 14ms/step - loss: 0.4025 - accuracy: 0.8843 - val_loss: 0.4865 - val_accuracy: 0.6667\n",
      "Epoch 21/40\n",
      "7/7 [==============================] - 0s 14ms/step - loss: 0.3895 - accuracy: 0.8333 - val_loss: 0.4576 - val_accuracy: 0.6667\n",
      "Epoch 22/40\n",
      "7/7 [==============================] - 0s 14ms/step - loss: 0.3809 - accuracy: 0.8889 - val_loss: 0.3626 - val_accuracy: 0.9167\n",
      "Epoch 23/40\n",
      "7/7 [==============================] - 0s 14ms/step - loss: 0.3619 - accuracy: 0.9167 - val_loss: 0.3419 - val_accuracy: 0.9167\n",
      "Epoch 24/40\n",
      "7/7 [==============================] - 0s 15ms/step - loss: 0.3533 - accuracy: 0.9074 - val_loss: 0.3227 - val_accuracy: 0.9167\n",
      "Epoch 25/40\n",
      "7/7 [==============================] - 0s 15ms/step - loss: 0.3484 - accuracy: 0.9120 - val_loss: 0.3260 - val_accuracy: 0.9167\n",
      "Epoch 26/40\n",
      "7/7 [==============================] - 0s 15ms/step - loss: 0.3435 - accuracy: 0.8935 - val_loss: 0.3076 - val_accuracy: 0.8750\n",
      "Epoch 27/40\n",
      "7/7 [==============================] - 0s 21ms/step - loss: 0.3316 - accuracy: 0.9213 - val_loss: 0.4396 - val_accuracy: 0.6667\n",
      "Epoch 28/40\n",
      "7/7 [==============================] - 0s 14ms/step - loss: 0.3289 - accuracy: 0.8750 - val_loss: 0.3247 - val_accuracy: 0.8750\n",
      "Epoch 29/40\n",
      "7/7 [==============================] - 0s 14ms/step - loss: 0.3172 - accuracy: 0.9259 - val_loss: 0.3078 - val_accuracy: 0.9583\n",
      "Epoch 30/40\n",
      "7/7 [==============================] - 0s 14ms/step - loss: 0.3199 - accuracy: 0.9213 - val_loss: 0.2972 - val_accuracy: 0.9167\n",
      "Epoch 31/40\n",
      "7/7 [==============================] - 0s 15ms/step - loss: 0.3173 - accuracy: 0.8843 - val_loss: 0.3454 - val_accuracy: 0.8333\n",
      "Epoch 32/40\n",
      "7/7 [==============================] - 0s 15ms/step - loss: 0.3047 - accuracy: 0.9028 - val_loss: 0.2969 - val_accuracy: 0.9583\n",
      "Epoch 33/40\n",
      "7/7 [==============================] - 0s 15ms/step - loss: 0.2958 - accuracy: 0.9491 - val_loss: 0.3195 - val_accuracy: 0.8333\n",
      "Epoch 34/40\n",
      "7/7 [==============================] - 0s 15ms/step - loss: 0.2911 - accuracy: 0.9491 - val_loss: 0.2707 - val_accuracy: 0.9583\n",
      "Epoch 35/40\n",
      "7/7 [==============================] - 0s 14ms/step - loss: 0.2866 - accuracy: 0.9444 - val_loss: 0.3199 - val_accuracy: 0.8333\n",
      "Epoch 36/40\n",
      "7/7 [==============================] - 0s 14ms/step - loss: 0.2823 - accuracy: 0.9306 - val_loss: 0.2693 - val_accuracy: 0.9583\n",
      "Epoch 37/40\n",
      "7/7 [==============================] - 0s 14ms/step - loss: 0.2746 - accuracy: 0.9213 - val_loss: 0.2385 - val_accuracy: 1.0000\n",
      "Epoch 38/40\n",
      "7/7 [==============================] - 0s 14ms/step - loss: 0.2760 - accuracy: 0.9306 - val_loss: 0.2311 - val_accuracy: 0.9583\n",
      "Epoch 39/40\n",
      "7/7 [==============================] - 0s 14ms/step - loss: 0.2758 - accuracy: 0.9398 - val_loss: 0.2654 - val_accuracy: 1.0000\n",
      "Epoch 40/40\n",
      "7/7 [==============================] - 0s 14ms/step - loss: 0.2652 - accuracy: 0.9352 - val_loss: 0.2776 - val_accuracy: 0.9167\n"
     ]
    }
   ],
   "source": [
    "model_nn = keras.Sequential([keras.layers.Dense(700,kernel_initializer = 'he_uniform',input_shape=(18,),activation = 'relu'),\n",
    "                            keras.layers.Dense(800,kernel_initializer = 'he_uniform',activation = 'relu'),\n",
    "                            keras.layers.Dense(900,kernel_initializer = 'he_uniform',activation = 'relu'),\n",
    "                            keras.layers.Dense(6,kernel_initializer = 'glorot_uniform',activation = 'softmax'),\n",
    "                            ])\n",
    "model_nn.compile(loss = \"categorical_crossentropy\",metrics = ['accuracy'],optimizer = 'sgd')\n",
    "history = model_nn.fit(xTrain_mm,yTrain,validation_data = (xTest_mm,yTest),epochs = 40)"
   ]
  },
  {
   "cell_type": "code",
   "execution_count": 11,
   "id": "1e720ddc",
   "metadata": {},
   "outputs": [
    {
     "name": "stdout",
     "output_type": "stream",
     "text": [
      "1/1 [==============================] - 0s 49ms/step - loss: 0.2776 - accuracy: 0.9167\n",
      "test_accuracy: 0.9166666865348816\n"
     ]
    }
   ],
   "source": [
    "test_loss,test_acc= model_nn.evaluate(xTest_mm,yTest)\n",
    "print(\"test_accuracy:\",test_acc)"
   ]
  },
  {
   "cell_type": "code",
   "execution_count": 12,
   "id": "4862d21f",
   "metadata": {},
   "outputs": [
    {
     "data": {
      "image/png": "[encoded data removed]",
      "text/plain": [
       "<Figure size 432x288 with 1 Axes>"
      ]
     },
     "metadata": {
      "needs_background": "light"
     },
     "output_type": "display_data"
    }
   ],
   "source": [
    "plt.plot(history.history['loss'])\n",
    "plt.plot(history.history['val_loss'])\n",
    "plt.title('Model Performance')\n",
    "plt.ylabel('loss')\n",
    "plt.xlabel('epoch')\n",
    "plt.legend(['training_loss', 'validation_loss'], loc='upper right')\n",
    "plt.show()"
   ]
  },
  {
   "cell_type": "code",
   "execution_count": null,
   "id": "5713a5b0",
   "metadata": {},
   "outputs": [],
   "source": []
  }
 ],
 "metadata": {
  "kernelspec": {
   "display_name": "Python 3",
   "language": "python",
   "name": "python3"
  },
  "language_info": {
   "codemirror_mode": {
    "name": "ipython",
    "version": 3
   },
   "file_extension": ".py",
   "mimetype": "text/x-python",
   "name": "python",
   "nbconvert_exporter": "python",
   "pygments_lexer": "ipython3",
   "version": "3.8.8"
  }
 },
 "nbformat": 4,
 "nbformat_minor": 5
}
