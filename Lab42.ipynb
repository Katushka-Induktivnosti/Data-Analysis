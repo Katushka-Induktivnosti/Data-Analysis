{
 "cells": [
  {
   "cell_type": "code",
   "execution_count": 1,
   "id": "8ba35df1",
   "metadata": {},
   "outputs": [],
   "source": [
    "import tensorflow as tf\n",
    "from tensorflow import keras\n",
    "from tensorflow.keras import layers\n",
    "from tensorflow.keras.preprocessing import image\n",
    "from tensorflow.keras.datasets import fashion_mnist\n",
    "\n",
    "import matplotlib.pyplot as plt"
   ]
  },
  {
   "cell_type": "code",
   "execution_count": 2,
   "id": "bea2de94",
   "metadata": {},
   "outputs": [
    {
     "name": "stdout",
     "output_type": "stream",
     "text": [
      "60000 train samples\n",
      "10000 test samples\n",
      "image shape (28, 28)\n"
     ]
    }
   ],
   "source": [
    "(x_train, y_train), (x_test, y_test) = fashion_mnist.load_data()\n",
    "print(x_train.shape[0], 'train samples')\n",
    "print(x_test.shape[0], 'test samples')\n",
    "print('image shape', x_train[0].shape)"
   ]
  },
  {
   "cell_type": "code",
   "execution_count": 3,
   "id": "68694b04",
   "metadata": {},
   "outputs": [
    {
     "name": "stdout",
     "output_type": "stream",
     "text": [
      "label:  9\n"
     ]
    },
    {
     "data": {
      "image/png": "[encoded data removed]",
      "text/plain": [
       "<Figure size 432x288 with 1 Axes>"
      ]
     },
     "metadata": {
      "needs_background": "light"
     },
     "output_type": "display_data"
    }
   ],
   "source": [
    "sample = 0\n",
    "print('label: ', y_train[sample])\n",
    "image = x_train[sample]\n",
    "\n",
    "plt.imshow(image)\n",
    "plt.show()"
   ]
  },
  {
   "cell_type": "code",
   "execution_count": 4,
   "id": "b26ddab6",
   "metadata": {},
   "outputs": [
    {
     "name": "stdout",
     "output_type": "stream",
     "text": [
      "input shape:  784\n"
     ]
    }
   ],
   "source": [
    "input_dim = 28 * 28 #784\n",
    "\n",
    "x_train = x_train.reshape(60000, input_dim)\n",
    "x_test = x_test.reshape(10000, input_dim)\n",
    "print('input shape: ', x_train.shape[1])\n",
    "\n",
    "x_train = x_train.astype('float32')\n",
    "x_test = x_test.astype('float32')\n",
    "x_train /= 255\n",
    "x_test /= 255\n",
    "num_classes = 20\n",
    "# convert class vectors to binary class matrices\n",
    "y_train = keras.utils.to_categorical(y_train, num_classes)\n",
    "y_test = keras.utils.to_categorical(y_test, num_classes)"
   ]
  },
  {
   "cell_type": "code",
   "execution_count": 5,
   "id": "bcaf2ff0",
   "metadata": {},
   "outputs": [
    {
     "name": "stdout",
     "output_type": "stream",
     "text": [
      "Model: \"sequential\"\n",
      "_________________________________________________________________\n",
      " Layer (type)                Output Shape              Param #   \n",
      "=================================================================\n",
      " dense (Dense)               (None, 512)               401920    \n",
      "                                                                 \n",
      " dense_1 (Dense)             (None, 512)               262656    \n",
      "                                                                 \n",
      " dense_2 (Dense)             (None, 20)                10260     \n",
      "                                                                 \n",
      "=================================================================\n",
      "Total params: 674,836\n",
      "Trainable params: 674,836\n",
      "Non-trainable params: 0\n",
      "_________________________________________________________________\n"
     ]
    }
   ],
   "source": [
    "model =  keras.Sequential()\n",
    "model.add(layers.Dense(512, activation='relu', input_shape=(784,)))\n",
    "model.add(layers.Dense(512, activation='relu'))\n",
    "model.add(layers.Dense(20, activation='softmax'))\n",
    "\n",
    "model.summary()\n",
    "model.compile(loss='categorical_crossentropy',   optimizer='adam', metrics=['accuracy'])"
   ]
  },
  {
   "cell_type": "code",
   "execution_count": 6,
   "id": "c926e744",
   "metadata": {},
   "outputs": [
    {
     "name": "stdout",
     "output_type": "stream",
     "text": [
      "Epoch 1/10\n",
      "750/750 - 7s - loss: 0.4915 - accuracy: 0.8249 - val_loss: 0.3898 - val_accuracy: 0.8581 - 7s/epoch - 9ms/step\n",
      "Epoch 2/10\n",
      "750/750 - 6s - loss: 0.3620 - accuracy: 0.8669 - val_loss: 0.3503 - val_accuracy: 0.8727 - 6s/epoch - 8ms/step\n",
      "Epoch 3/10\n",
      "750/750 - 6s - loss: 0.3245 - accuracy: 0.8784 - val_loss: 0.3491 - val_accuracy: 0.8729 - 6s/epoch - 8ms/step\n",
      "Epoch 4/10\n",
      "750/750 - 6s - loss: 0.3004 - accuracy: 0.8886 - val_loss: 0.3578 - val_accuracy: 0.8697 - 6s/epoch - 7ms/step\n",
      "Epoch 5/10\n",
      "750/750 - 6s - loss: 0.2793 - accuracy: 0.8947 - val_loss: 0.3366 - val_accuracy: 0.8821 - 6s/epoch - 7ms/step\n",
      "Epoch 6/10\n",
      "750/750 - 6s - loss: 0.2628 - accuracy: 0.9008 - val_loss: 0.3341 - val_accuracy: 0.8845 - 6s/epoch - 8ms/step\n",
      "Epoch 7/10\n",
      "750/750 - 6s - loss: 0.2496 - accuracy: 0.9060 - val_loss: 0.3277 - val_accuracy: 0.8824 - 6s/epoch - 7ms/step\n",
      "Epoch 8/10\n",
      "750/750 - 6s - loss: 0.2422 - accuracy: 0.9074 - val_loss: 0.3073 - val_accuracy: 0.8907 - 6s/epoch - 7ms/step\n",
      "Epoch 9/10\n",
      "750/750 - 6s - loss: 0.2272 - accuracy: 0.9120 - val_loss: 0.3107 - val_accuracy: 0.8907 - 6s/epoch - 8ms/step\n",
      "Epoch 10/10\n",
      "750/750 - 6s - loss: 0.2144 - accuracy: 0.9177 - val_loss: 0.3286 - val_accuracy: 0.8875 - 6s/epoch - 8ms/step\n"
     ]
    }
   ],
   "source": [
    "history = model.fit(x_train,\n",
    "                    y_train,\n",
    "                    epochs=10,\n",
    "                    batch_size=64,                                   \n",
    "                    validation_split=0.2,\n",
    "                    verbose = 2)"
   ]
  },
  {
   "cell_type": "code",
   "execution_count": 7,
   "id": "c556a53a",
   "metadata": {},
   "outputs": [
    {
     "data": {
      "text/plain": [
       "dict_keys(['loss', 'accuracy', 'val_loss', 'val_accuracy'])"
      ]
     },
     "execution_count": 7,
     "metadata": {},
     "output_type": "execute_result"
    }
   ],
   "source": [
    "history_dict = history.history\n",
    "history_dict.keys()"
   ]
  },
  {
   "cell_type": "code",
   "execution_count": 8,
   "id": "cbcb7ba6",
   "metadata": {},
   "outputs": [
    {
     "data": {
      "image/png": "[encoded data removed]",
      "text/plain": [
       "<Figure size 432x288 with 1 Axes>"
      ]
     },
     "metadata": {
      "needs_background": "light"
     },
     "output_type": "display_data"
    }
   ],
   "source": [
    "history_dict = history.history\n",
    "loss_values = history_dict[\"loss\"]\n",
    "val_loss_values = history_dict[\"val_loss\"]\n",
    "epochs = range(1, len(loss_values) + 1)\n",
    "plt.plot(epochs, loss_values, \"bo\", label=\"Training loss\")\n",
    "plt.plot(epochs, val_loss_values, \"b\", label=\"Validation loss\")\n",
    "plt.title(\"Training and validation loss\")\n",
    "plt.xlabel(\"Epochs\")\n",
    "plt.ylabel(\"Loss\")\n",
    "plt.legend()\n",
    "plt.show()"
   ]
  },
  {
   "cell_type": "code",
   "execution_count": 9,
   "id": "0b017ef2",
   "metadata": {},
   "outputs": [
    {
     "name": "stdout",
     "output_type": "stream",
     "text": [
      "Test score: 0.3501432240009308\n",
      "Test accuracy: 0.8797000050544739\n"
     ]
    }
   ],
   "source": [
    "score = model.evaluate(x_test, y_test, verbose=0) \n",
    "print('Test score:', score[0]) \n",
    "print('Test accuracy:', score[1])"
   ]
  },
  {
   "cell_type": "code",
   "execution_count": 11,
   "id": "5b75c791",
   "metadata": {},
   "outputs": [
    {
     "name": "stdout",
     "output_type": "stream",
     "text": [
      "Model: \"sequential_2\"\n",
      "_________________________________________________________________\n",
      " Layer (type)                Output Shape              Param #   \n",
      "=================================================================\n",
      " dense_6 (Dense)             (None, 512)               401920    \n",
      "                                                                 \n",
      " dropout_2 (Dropout)         (None, 512)               0         \n",
      "                                                                 \n",
      " dense_7 (Dense)             (None, 512)               262656    \n",
      "                                                                 \n",
      " dropout_3 (Dropout)         (None, 512)               0         \n",
      "                                                                 \n",
      " dense_8 (Dense)             (None, 20)                10260     \n",
      "                                                                 \n",
      "=================================================================\n",
      "Total params: 674,836\n",
      "Trainable params: 674,836\n",
      "Non-trainable params: 0\n",
      "_________________________________________________________________\n",
      "Epoch 1/10\n",
      "750/750 - 7s - loss: 0.6470 - accuracy: 0.7661 - val_loss: 0.4195 - val_accuracy: 0.8466 - 7s/epoch - 9ms/step\n",
      "Epoch 2/10\n",
      "750/750 - 6s - loss: 0.4777 - accuracy: 0.8263 - val_loss: 0.3938 - val_accuracy: 0.8552 - 6s/epoch - 8ms/step\n",
      "Epoch 3/10\n",
      "750/750 - 6s - loss: 0.4419 - accuracy: 0.8396 - val_loss: 0.3773 - val_accuracy: 0.8659 - 6s/epoch - 9ms/step\n",
      "Epoch 4/10\n",
      "750/750 - 6s - loss: 0.4215 - accuracy: 0.8447 - val_loss: 0.3798 - val_accuracy: 0.8582 - 6s/epoch - 8ms/step\n",
      "Epoch 5/10\n",
      "750/750 - 6s - loss: 0.4025 - accuracy: 0.8530 - val_loss: 0.3617 - val_accuracy: 0.8641 - 6s/epoch - 8ms/step\n",
      "Epoch 6/10\n",
      "750/750 - 6s - loss: 0.3941 - accuracy: 0.8547 - val_loss: 0.3712 - val_accuracy: 0.8618 - 6s/epoch - 8ms/step\n",
      "Epoch 7/10\n",
      "750/750 - 6s - loss: 0.3807 - accuracy: 0.8602 - val_loss: 0.3542 - val_accuracy: 0.8714 - 6s/epoch - 8ms/step\n",
      "Epoch 8/10\n",
      "750/750 - 6s - loss: 0.3767 - accuracy: 0.8619 - val_loss: 0.3443 - val_accuracy: 0.8731 - 6s/epoch - 8ms/step\n",
      "Epoch 9/10\n",
      "750/750 - 6s - loss: 0.3684 - accuracy: 0.8639 - val_loss: 0.3323 - val_accuracy: 0.8795 - 6s/epoch - 9ms/step\n",
      "Epoch 10/10\n",
      "750/750 - 6s - loss: 0.3617 - accuracy: 0.8662 - val_loss: 0.3350 - val_accuracy: 0.8757 - 6s/epoch - 8ms/step\n"
     ]
    }
   ],
   "source": [
    "model =  keras.Sequential()\n",
    "model.add(layers.Dense(512, activation='relu', input_shape=(784,)))\n",
    "model.add(layers.Dropout(0.5))\n",
    "model.add(layers.Dense(512, activation='relu'))\n",
    "model.add(layers.Dropout(0.5))\n",
    "model.add(layers.Dense(20, activation='softmax'))\n",
    "\n",
    "model.summary()\n",
    "model.compile(loss='categorical_crossentropy',   optimizer='adam', metrics=['accuracy'])\n",
    "\n",
    "\n",
    "history = model.fit(x_train,\n",
    "                    y_train,\n",
    "                    epochs=10,\n",
    "                    batch_size=64,                                   \n",
    "                    validation_split=0.2,\n",
    "                    verbose = 2)"
   ]
  },
  {
   "cell_type": "code",
   "execution_count": 13,
   "id": "952c46c8",
   "metadata": {},
   "outputs": [
    {
     "name": "stdout",
     "output_type": "stream",
     "text": [
      "Model: \"sequential_4\"\n",
      "_________________________________________________________________\n",
      " Layer (type)                Output Shape              Param #   \n",
      "=================================================================\n",
      " dense_12 (Dense)            (None, 512)               401920    \n",
      "                                                                 \n",
      " batch_normalization_2 (Batc  (None, 512)              2048      \n",
      " hNormalization)                                                 \n",
      "                                                                 \n",
      " activation_2 (Activation)   (None, 512)               0         \n",
      "                                                                 \n",
      " dropout_6 (Dropout)         (None, 512)               0         \n",
      "                                                                 \n",
      " dense_13 (Dense)            (None, 512)               262656    \n",
      "                                                                 \n",
      " batch_normalization_3 (Batc  (None, 512)              2048      \n",
      " hNormalization)                                                 \n",
      "                                                                 \n",
      " activation_3 (Activation)   (None, 512)               0         \n",
      "                                                                 \n",
      " dropout_7 (Dropout)         (None, 512)               0         \n",
      "                                                                 \n",
      " dense_14 (Dense)            (None, 20)                10260     \n",
      "                                                                 \n",
      "=================================================================\n",
      "Total params: 678,932\n",
      "Trainable params: 676,884\n",
      "Non-trainable params: 2,048\n",
      "_________________________________________________________________\n",
      "Epoch 1/10\n",
      "750/750 - 8s - loss: 0.6065 - accuracy: 0.7866 - val_loss: 0.4098 - val_accuracy: 0.8462 - 8s/epoch - 11ms/step\n",
      "Epoch 2/10\n",
      "750/750 - 7s - loss: 0.4481 - accuracy: 0.8375 - val_loss: 0.3774 - val_accuracy: 0.8609 - 7s/epoch - 9ms/step\n",
      "Epoch 3/10\n",
      "750/750 - 7s - loss: 0.4084 - accuracy: 0.8511 - val_loss: 0.3592 - val_accuracy: 0.8719 - 7s/epoch - 10ms/step\n",
      "Epoch 4/10\n",
      "750/750 - 7s - loss: 0.3850 - accuracy: 0.8591 - val_loss: 0.3568 - val_accuracy: 0.8673 - 7s/epoch - 9ms/step\n",
      "Epoch 5/10\n",
      "750/750 - 7s - loss: 0.3715 - accuracy: 0.8628 - val_loss: 0.3486 - val_accuracy: 0.8740 - 7s/epoch - 9ms/step\n",
      "Epoch 6/10\n",
      "750/750 - 7s - loss: 0.3547 - accuracy: 0.8688 - val_loss: 0.3174 - val_accuracy: 0.8839 - 7s/epoch - 10ms/step\n",
      "Epoch 7/10\n",
      "750/750 - 8s - loss: 0.3423 - accuracy: 0.8748 - val_loss: 0.3276 - val_accuracy: 0.8771 - 8s/epoch - 10ms/step\n",
      "Epoch 8/10\n",
      "750/750 - 8s - loss: 0.3334 - accuracy: 0.8760 - val_loss: 0.3217 - val_accuracy: 0.8788 - 8s/epoch - 11ms/step\n",
      "Epoch 9/10\n",
      "750/750 - 8s - loss: 0.3205 - accuracy: 0.8818 - val_loss: 0.3099 - val_accuracy: 0.8874 - 8s/epoch - 11ms/step\n",
      "Epoch 10/10\n",
      "750/750 - 9s - loss: 0.3156 - accuracy: 0.8817 - val_loss: 0.3103 - val_accuracy: 0.8884 - 9s/epoch - 11ms/step\n"
     ]
    }
   ],
   "source": [
    "model =  keras.Sequential()\n",
    "\n",
    "model.add(layers.Dense(512, input_shape=(784,)))\n",
    "model.add(layers.BatchNormalization()) \n",
    "model.add(layers.Activation('relu')) \n",
    "model.add(layers.Dropout(0.5))\n",
    "\n",
    "model.add(layers.Dense(512))\n",
    "model.add(layers.BatchNormalization()) \n",
    "model.add(layers.Activation('relu'))\n",
    "model.add(layers.Dropout(0.5))\n",
    "\n",
    "model.add(layers.Dense(20, activation='softmax'))\n",
    "\n",
    "model.summary()\n",
    "model.compile(loss='categorical_crossentropy',   optimizer='adam', metrics=['accuracy'])\n",
    "\n",
    "\n",
    "history = model.fit(x_train,\n",
    "                    y_train,\n",
    "                    epochs=10,\n",
    "                    batch_size=64,                                   \n",
    "                    validation_split=0.2,\n",
    "                    verbose = 2)"
   ]
  },
  {
   "cell_type": "code",
   "execution_count": null,
   "id": "ba253a42",
   "metadata": {},
   "outputs": [],
   "source": []
  }
 ],
 "metadata": {
  "kernelspec": {
   "display_name": "Python 3",
   "language": "python",
   "name": "python3"
  },
  "language_info": {
   "codemirror_mode": {
    "name": "ipython",
    "version": 3
   },
   "file_extension": ".py",
   "mimetype": "text/x-python",
   "name": "python",
   "nbconvert_exporter": "python",
   "pygments_lexer": "ipython3",
   "version": "3.8.8"
  }
 },
 "nbformat": 4,
 "nbformat_minor": 5
}
