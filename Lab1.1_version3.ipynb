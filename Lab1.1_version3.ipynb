{
 "cells": [
  {
   "cell_type": "code",
   "execution_count": 39,
   "id": "c41ee93c",
   "metadata": {
    "scrolled": true
   },
   "outputs": [
    {
     "name": "stdout",
     "output_type": "stream",
     "text": [
      "a_predicted = -0.7535312547002972 \n",
      "a = -0.75 \n",
      "b_predicted = 4.499955732911439 \n",
      "b = 4\n"
     ]
    },
    {
     "data": {
      "image/png": "[encoded data removed]",
      "text/plain": [
       "<Figure size 432x288 with 1 Axes>"
      ]
     },
     "metadata": {
      "needs_background": "light"
     },
     "output_type": "display_data"
    }
   ],
   "source": [
    "import numpy as np\n",
    "import matplotlib.pyplot as plt\n",
    "import pandas as pd\n",
    "\n",
    "size = 100\n",
    "\n",
    "A = -0.75\n",
    "B = 4\n",
    "x = np.random.random(size=size)\n",
    "noise = np.random.random(size=size)\n",
    "\n",
    "y = A*x+B+noise\n",
    "\n",
    "data = {'X': x, 'Y': y}\n",
    "df = pd.DataFrame(data, columns = ['X','Y'])\n",
    "X = df['X'].values\n",
    "Y = df['Y'].values\n",
    "\n",
    "D_a = 0\n",
    "D_b = 0\n",
    "\n",
    "L = 0.01\n",
    "\n",
    "n = float(len(X))\n",
    "\n",
    "for i in range(2*len(X)):\n",
    "    Y_pred = a*X + b\n",
    "    D_a = (-2/n) * sum(X * (Y - Y_pred))\n",
    "    D_b = (-2/n) * sum(Y - Y_pred)\n",
    "    a = a - L * D_a\n",
    "    b = b - L * D_b\n",
    "\n",
    "Y_pred = a*X + b\n",
    "print (f'a_predicted = {a} \\na = {A} \\nb_predicted = {b} \\nb = {B}')\n",
    "\n",
    "plt.show()\n",
    "\n",
    "plt.scatter(X, Y, marker = '.', color = 'orange')\n",
    "plt.plot(X, Y_pred, color='green')\n",
    "\n",
    "plt.xlabel('X')\n",
    "plt.ylabel('Y')\n",
    "plt.grid()\n",
    "plt.show()"
   ]
  },
  {
   "cell_type": "code",
   "execution_count": null,
   "id": "61622a16",
   "metadata": {},
   "outputs": [],
   "source": []
  },
  {
   "cell_type": "code",
   "execution_count": null,
   "id": "ebb8183a",
   "metadata": {},
   "outputs": [],
   "source": []
  }
 ],
 "metadata": {
  "kernelspec": {
   "display_name": "Python 3",
   "language": "python",
   "name": "python3"
  },
  "language_info": {
   "codemirror_mode": {
    "name": "ipython",
    "version": 3
   },
   "file_extension": ".py",
   "mimetype": "text/x-python",
   "name": "python",
   "nbconvert_exporter": "python",
   "pygments_lexer": "ipython3",
   "version": "3.8.8"
  }
 },
 "nbformat": 4,
 "nbformat_minor": 5
}
