{
 "cells": [
  {
   "cell_type": "code",
   "execution_count": 1,
   "id": "e066ad3d",
   "metadata": {},
   "outputs": [],
   "source": [
    "import pandas as pd \n",
    "import numpy as np \n",
    "import matplotlib.pyplot as plt \n",
    "import seaborn as sns\n",
    "from sklearn.preprocessing import LabelEncoder\n",
    "from sklearn.preprocessing import MinMaxScaler\n",
    "from sklearn.metrics import accuracy_score\n",
    "from sklearn.metrics import classification_report\n",
    "from sklearn.metrics import confusion_matrix\n",
    "from sklearn.model_selection import train_test_split\n",
    "from sklearn.tree import DecisionTreeClassifier\n",
    "from sklearn.ensemble import RandomForestClassifier\n",
    "from sklearn.ensemble import AdaBoostClassifier\n",
    "from sklearn.neighbors import KNeighborsClassifier\n",
    "from sklearn.svm import SVC\n",
    "from sklearn.model_selection import GridSearchCV\n",
    "from sklearn.tree import plot_tree"
   ]
  },
  {
   "cell_type": "code",
   "execution_count": 2,
   "id": "620a441f",
   "metadata": {},
   "outputs": [
    {
     "data": {
      "text/html": [
       "<div>\n",
       "<style scoped>\n",
       "    .dataframe tbody tr th:only-of-type {\n",
       "        vertical-align: middle;\n",
       "    }\n",
       "\n",
       "    .dataframe tbody tr th {\n",
       "        vertical-align: top;\n",
       "    }\n",
       "\n",
       "    .dataframe thead th {\n",
       "        text-align: right;\n",
       "    }\n",
       "</style>\n",
       "<table border=\"1\" class=\"dataframe\">\n",
       "  <thead>\n",
       "    <tr style=\"text-align: right;\">\n",
       "      <th></th>\n",
       "      <th>Temperature</th>\n",
       "      <th>L</th>\n",
       "      <th>R</th>\n",
       "      <th>A_M</th>\n",
       "      <th>Color</th>\n",
       "      <th>Spectral_Class</th>\n",
       "      <th>Type</th>\n",
       "    </tr>\n",
       "  </thead>\n",
       "  <tbody>\n",
       "    <tr>\n",
       "      <th>0</th>\n",
       "      <td>3068</td>\n",
       "      <td>0.002400</td>\n",
       "      <td>0.1700</td>\n",
       "      <td>16.12</td>\n",
       "      <td>Red</td>\n",
       "      <td>M</td>\n",
       "      <td>0</td>\n",
       "    </tr>\n",
       "    <tr>\n",
       "      <th>1</th>\n",
       "      <td>3042</td>\n",
       "      <td>0.000500</td>\n",
       "      <td>0.1542</td>\n",
       "      <td>16.60</td>\n",
       "      <td>Red</td>\n",
       "      <td>M</td>\n",
       "      <td>0</td>\n",
       "    </tr>\n",
       "    <tr>\n",
       "      <th>2</th>\n",
       "      <td>2600</td>\n",
       "      <td>0.000300</td>\n",
       "      <td>0.1020</td>\n",
       "      <td>18.70</td>\n",
       "      <td>Red</td>\n",
       "      <td>M</td>\n",
       "      <td>0</td>\n",
       "    </tr>\n",
       "    <tr>\n",
       "      <th>3</th>\n",
       "      <td>2800</td>\n",
       "      <td>0.000200</td>\n",
       "      <td>0.1600</td>\n",
       "      <td>16.65</td>\n",
       "      <td>Red</td>\n",
       "      <td>M</td>\n",
       "      <td>0</td>\n",
       "    </tr>\n",
       "    <tr>\n",
       "      <th>4</th>\n",
       "      <td>1939</td>\n",
       "      <td>0.000138</td>\n",
       "      <td>0.1030</td>\n",
       "      <td>20.06</td>\n",
       "      <td>Red</td>\n",
       "      <td>M</td>\n",
       "      <td>0</td>\n",
       "    </tr>\n",
       "  </tbody>\n",
       "</table>\n",
       "</div>"
      ],
      "text/plain": [
       "   Temperature         L       R    A_M Color Spectral_Class  Type\n",
       "0         3068  0.002400  0.1700  16.12   Red              M     0\n",
       "1         3042  0.000500  0.1542  16.60   Red              M     0\n",
       "2         2600  0.000300  0.1020  18.70   Red              M     0\n",
       "3         2800  0.000200  0.1600  16.65   Red              M     0\n",
       "4         1939  0.000138  0.1030  20.06   Red              M     0"
      ]
     },
     "execution_count": 2,
     "metadata": {},
     "output_type": "execute_result"
    }
   ],
   "source": [
    "dfStarClassification = pd.read_csv(\"/Users/KDolp/Desktop/Физтех/Data Analysis/Lab2/Stars.csv\",sep=\",\")\n",
    "dfStarClassification.head()"
   ]
  },
  {
   "cell_type": "code",
   "execution_count": 3,
   "id": "3333d31f",
   "metadata": {},
   "outputs": [],
   "source": [
    "dfStarClassification = dfStarClassification.astype({\"Type\": str})"
   ]
  },
  {
   "cell_type": "code",
   "execution_count": 4,
   "id": "fb43c158",
   "metadata": {},
   "outputs": [
    {
     "data": {
      "text/plain": [
       "array(['Red', 'Blue White', 'White', 'Yellowish White', 'Blue white',\n",
       "       'Pale yellow orange', 'Blue', 'Blue-white', 'Whitish',\n",
       "       'yellow-white', 'Orange', 'White-Yellow', 'white', 'yellowish',\n",
       "       'Yellowish', 'Orange-Red', 'Blue-White'], dtype=object)"
      ]
     },
     "execution_count": 4,
     "metadata": {},
     "output_type": "execute_result"
    }
   ],
   "source": [
    "dfStarClassification.Color.unique()"
   ]
  },
  {
   "cell_type": "code",
   "execution_count": 5,
   "id": "fbb2d0a5",
   "metadata": {},
   "outputs": [
    {
     "data": {
      "text/plain": [
       "array(['M', 'B', 'A', 'F', 'O', 'K', 'G'], dtype=object)"
      ]
     },
     "execution_count": 5,
     "metadata": {},
     "output_type": "execute_result"
    }
   ],
   "source": [
    "dfStarClassification.Spectral_Class.unique()"
   ]
  },
  {
   "cell_type": "code",
   "execution_count": 6,
   "id": "6af0ff95",
   "metadata": {},
   "outputs": [
    {
     "data": {
      "text/html": [
       "<div>\n",
       "<style scoped>\n",
       "    .dataframe tbody tr th:only-of-type {\n",
       "        vertical-align: middle;\n",
       "    }\n",
       "\n",
       "    .dataframe tbody tr th {\n",
       "        vertical-align: top;\n",
       "    }\n",
       "\n",
       "    .dataframe thead th {\n",
       "        text-align: right;\n",
       "    }\n",
       "</style>\n",
       "<table border=\"1\" class=\"dataframe\">\n",
       "  <thead>\n",
       "    <tr style=\"text-align: right;\">\n",
       "      <th></th>\n",
       "      <th>Temperature</th>\n",
       "      <th>L</th>\n",
       "      <th>R</th>\n",
       "      <th>A_M</th>\n",
       "    </tr>\n",
       "  </thead>\n",
       "  <tbody>\n",
       "    <tr>\n",
       "      <th>Temperature</th>\n",
       "      <td>1.000000</td>\n",
       "      <td>0.393404</td>\n",
       "      <td>0.064216</td>\n",
       "      <td>-0.420261</td>\n",
       "    </tr>\n",
       "    <tr>\n",
       "      <th>L</th>\n",
       "      <td>0.393404</td>\n",
       "      <td>1.000000</td>\n",
       "      <td>0.526516</td>\n",
       "      <td>-0.692619</td>\n",
       "    </tr>\n",
       "    <tr>\n",
       "      <th>R</th>\n",
       "      <td>0.064216</td>\n",
       "      <td>0.526516</td>\n",
       "      <td>1.000000</td>\n",
       "      <td>-0.608728</td>\n",
       "    </tr>\n",
       "    <tr>\n",
       "      <th>A_M</th>\n",
       "      <td>-0.420261</td>\n",
       "      <td>-0.692619</td>\n",
       "      <td>-0.608728</td>\n",
       "      <td>1.000000</td>\n",
       "    </tr>\n",
       "  </tbody>\n",
       "</table>\n",
       "</div>"
      ],
      "text/plain": [
       "             Temperature         L         R       A_M\n",
       "Temperature     1.000000  0.393404  0.064216 -0.420261\n",
       "L               0.393404  1.000000  0.526516 -0.692619\n",
       "R               0.064216  0.526516  1.000000 -0.608728\n",
       "A_M            -0.420261 -0.692619 -0.608728  1.000000"
      ]
     },
     "execution_count": 6,
     "metadata": {},
     "output_type": "execute_result"
    }
   ],
   "source": [
    "correlation = dfStarClassification.corr()\n",
    "correlation"
   ]
  },
  {
   "cell_type": "code",
   "execution_count": 7,
   "id": "a7c6c7ff",
   "metadata": {},
   "outputs": [
    {
     "data": {
      "text/plain": [
       "<AxesSubplot:>"
      ]
     },
     "execution_count": 7,
     "metadata": {},
     "output_type": "execute_result"
    },
    {
     "data": {
      "image/png": "[encoded data removed]",
      "text/plain": [
       "<Figure size 432x288 with 2 Axes>"
      ]
     },
     "metadata": {
      "needs_background": "light"
     },
     "output_type": "display_data"
    }
   ],
   "source": [
    "sns.heatmap(correlation,annot=True)"
   ]
  },
  {
   "cell_type": "code",
   "execution_count": 8,
   "id": "f103e104",
   "metadata": {},
   "outputs": [
    {
     "data": {
      "image/png": "[encoded data removed]",
      "text/plain": [
       "<Figure size 432x288 with 1 Axes>"
      ]
     },
     "metadata": {
      "needs_background": "light"
     },
     "output_type": "display_data"
    },
    {
     "data": {
      "image/png": "[encoded data removed]",
      "text/plain": [
       "<Figure size 432x288 with 1 Axes>"
      ]
     },
     "metadata": {
      "needs_background": "light"
     },
     "output_type": "display_data"
    },
    {
     "data": {
      "image/png": "[encoded data removed]",
      "text/plain": [
       "<Figure size 432x288 with 1 Axes>"
      ]
     },
     "metadata": {
      "needs_background": "light"
     },
     "output_type": "display_data"
    },
    {
     "data": {
      "image/png": "[encoded data removed]",
      "text/plain": [
       "<Figure size 432x288 with 1 Axes>"
      ]
     },
     "metadata": {
      "needs_background": "light"
     },
     "output_type": "display_data"
    }
   ],
   "source": [
    "continuousColumns = [\"Temperature\",\"L\",\"R\",\"A_M\"]\n",
    "for item  in continuousColumns:\n",
    "    sns.boxplot(x=\"Type\", y=item, data=dfStarClassification)\n",
    "    plt.show()"
   ]
  },
  {
   "cell_type": "code",
   "execution_count": 9,
   "id": "1fe7c1cd",
   "metadata": {},
   "outputs": [
    {
     "data": {
      "text/plain": [
       "<AxesSubplot:title={'center':'A_M'}, xlabel='A_M', ylabel='Count'>"
      ]
     },
     "execution_count": 9,
     "metadata": {},
     "output_type": "execute_result"
    },
    {
     "data": {
      "image/png": "[encoded data removed]",
      "text/plain": [
       "<Figure size 720x432 with 1 Axes>"
      ]
     },
     "metadata": {
      "needs_background": "light"
     },
     "output_type": "display_data"
    },
    {
     "data": {
      "image/png": "[encoded data removed]",
      "text/plain": [
       "<Figure size 720x432 with 1 Axes>"
      ]
     },
     "metadata": {
      "needs_background": "light"
     },
     "output_type": "display_data"
    }
   ],
   "source": [
    "plt.figure(2, figsize=(10,6))\n",
    "plt.title(\"R\")\n",
    "sns.histplot(dfStarClassification['R'])\n",
    "\n",
    "plt.figure(3, figsize=(10,6)) \n",
    "plt.title(\"A_M\")\n",
    "sns.histplot(dfStarClassification['A_M'])"
   ]
  },
  {
   "cell_type": "code",
   "execution_count": 10,
   "id": "6eecd05d",
   "metadata": {},
   "outputs": [],
   "source": [
    "willOneHotEncode = [\"Color\",\"Spectral_Class\"]\n",
    "willScale  = continuousColumns"
   ]
  },
  {
   "cell_type": "code",
   "execution_count": 11,
   "id": "7ed3f2f1",
   "metadata": {},
   "outputs": [
    {
     "data": {
      "text/html": [
       "<div>\n",
       "<style scoped>\n",
       "    .dataframe tbody tr th:only-of-type {\n",
       "        vertical-align: middle;\n",
       "    }\n",
       "\n",
       "    .dataframe tbody tr th {\n",
       "        vertical-align: top;\n",
       "    }\n",
       "\n",
       "    .dataframe thead th {\n",
       "        text-align: right;\n",
       "    }\n",
       "</style>\n",
       "<table border=\"1\" class=\"dataframe\">\n",
       "  <thead>\n",
       "    <tr style=\"text-align: right;\">\n",
       "      <th></th>\n",
       "      <th>Temperature</th>\n",
       "      <th>L</th>\n",
       "      <th>R</th>\n",
       "      <th>A_M</th>\n",
       "      <th>Type</th>\n",
       "      <th>Color_Blue</th>\n",
       "      <th>Color_Blue White</th>\n",
       "      <th>Color_Blue white</th>\n",
       "      <th>Color_Blue-White</th>\n",
       "      <th>Color_Blue-white</th>\n",
       "      <th>...</th>\n",
       "      <th>Color_white</th>\n",
       "      <th>Color_yellow-white</th>\n",
       "      <th>Color_yellowish</th>\n",
       "      <th>Spectral_Class_A</th>\n",
       "      <th>Spectral_Class_B</th>\n",
       "      <th>Spectral_Class_F</th>\n",
       "      <th>Spectral_Class_G</th>\n",
       "      <th>Spectral_Class_K</th>\n",
       "      <th>Spectral_Class_M</th>\n",
       "      <th>Spectral_Class_O</th>\n",
       "    </tr>\n",
       "  </thead>\n",
       "  <tbody>\n",
       "    <tr>\n",
       "      <th>0</th>\n",
       "      <td>3068</td>\n",
       "      <td>0.002400</td>\n",
       "      <td>0.1700</td>\n",
       "      <td>16.12</td>\n",
       "      <td>0</td>\n",
       "      <td>0</td>\n",
       "      <td>0</td>\n",
       "      <td>0</td>\n",
       "      <td>0</td>\n",
       "      <td>0</td>\n",
       "      <td>...</td>\n",
       "      <td>0</td>\n",
       "      <td>0</td>\n",
       "      <td>0</td>\n",
       "      <td>0</td>\n",
       "      <td>0</td>\n",
       "      <td>0</td>\n",
       "      <td>0</td>\n",
       "      <td>0</td>\n",
       "      <td>1</td>\n",
       "      <td>0</td>\n",
       "    </tr>\n",
       "    <tr>\n",
       "      <th>1</th>\n",
       "      <td>3042</td>\n",
       "      <td>0.000500</td>\n",
       "      <td>0.1542</td>\n",
       "      <td>16.60</td>\n",
       "      <td>0</td>\n",
       "      <td>0</td>\n",
       "      <td>0</td>\n",
       "      <td>0</td>\n",
       "      <td>0</td>\n",
       "      <td>0</td>\n",
       "      <td>...</td>\n",
       "      <td>0</td>\n",
       "      <td>0</td>\n",
       "      <td>0</td>\n",
       "      <td>0</td>\n",
       "      <td>0</td>\n",
       "      <td>0</td>\n",
       "      <td>0</td>\n",
       "      <td>0</td>\n",
       "      <td>1</td>\n",
       "      <td>0</td>\n",
       "    </tr>\n",
       "    <tr>\n",
       "      <th>2</th>\n",
       "      <td>2600</td>\n",
       "      <td>0.000300</td>\n",
       "      <td>0.1020</td>\n",
       "      <td>18.70</td>\n",
       "      <td>0</td>\n",
       "      <td>0</td>\n",
       "      <td>0</td>\n",
       "      <td>0</td>\n",
       "      <td>0</td>\n",
       "      <td>0</td>\n",
       "      <td>...</td>\n",
       "      <td>0</td>\n",
       "      <td>0</td>\n",
       "      <td>0</td>\n",
       "      <td>0</td>\n",
       "      <td>0</td>\n",
       "      <td>0</td>\n",
       "      <td>0</td>\n",
       "      <td>0</td>\n",
       "      <td>1</td>\n",
       "      <td>0</td>\n",
       "    </tr>\n",
       "    <tr>\n",
       "      <th>3</th>\n",
       "      <td>2800</td>\n",
       "      <td>0.000200</td>\n",
       "      <td>0.1600</td>\n",
       "      <td>16.65</td>\n",
       "      <td>0</td>\n",
       "      <td>0</td>\n",
       "      <td>0</td>\n",
       "      <td>0</td>\n",
       "      <td>0</td>\n",
       "      <td>0</td>\n",
       "      <td>...</td>\n",
       "      <td>0</td>\n",
       "      <td>0</td>\n",
       "      <td>0</td>\n",
       "      <td>0</td>\n",
       "      <td>0</td>\n",
       "      <td>0</td>\n",
       "      <td>0</td>\n",
       "      <td>0</td>\n",
       "      <td>1</td>\n",
       "      <td>0</td>\n",
       "    </tr>\n",
       "    <tr>\n",
       "      <th>4</th>\n",
       "      <td>1939</td>\n",
       "      <td>0.000138</td>\n",
       "      <td>0.1030</td>\n",
       "      <td>20.06</td>\n",
       "      <td>0</td>\n",
       "      <td>0</td>\n",
       "      <td>0</td>\n",
       "      <td>0</td>\n",
       "      <td>0</td>\n",
       "      <td>0</td>\n",
       "      <td>...</td>\n",
       "      <td>0</td>\n",
       "      <td>0</td>\n",
       "      <td>0</td>\n",
       "      <td>0</td>\n",
       "      <td>0</td>\n",
       "      <td>0</td>\n",
       "      <td>0</td>\n",
       "      <td>0</td>\n",
       "      <td>1</td>\n",
       "      <td>0</td>\n",
       "    </tr>\n",
       "  </tbody>\n",
       "</table>\n",
       "<p>5 rows × 29 columns</p>\n",
       "</div>"
      ],
      "text/plain": [
       "   Temperature         L       R    A_M Type  Color_Blue  Color_Blue White  \\\n",
       "0         3068  0.002400  0.1700  16.12    0           0                 0   \n",
       "1         3042  0.000500  0.1542  16.60    0           0                 0   \n",
       "2         2600  0.000300  0.1020  18.70    0           0                 0   \n",
       "3         2800  0.000200  0.1600  16.65    0           0                 0   \n",
       "4         1939  0.000138  0.1030  20.06    0           0                 0   \n",
       "\n",
       "   Color_Blue white  Color_Blue-White  Color_Blue-white  ...  Color_white  \\\n",
       "0                 0                 0                 0  ...            0   \n",
       "1                 0                 0                 0  ...            0   \n",
       "2                 0                 0                 0  ...            0   \n",
       "3                 0                 0                 0  ...            0   \n",
       "4                 0                 0                 0  ...            0   \n",
       "\n",
       "   Color_yellow-white  Color_yellowish  Spectral_Class_A  Spectral_Class_B  \\\n",
       "0                   0                0                 0                 0   \n",
       "1                   0                0                 0                 0   \n",
       "2                   0                0                 0                 0   \n",
       "3                   0                0                 0                 0   \n",
       "4                   0                0                 0                 0   \n",
       "\n",
       "   Spectral_Class_F  Spectral_Class_G  Spectral_Class_K  Spectral_Class_M  \\\n",
       "0                 0                 0                 0                 1   \n",
       "1                 0                 0                 0                 1   \n",
       "2                 0                 0                 0                 1   \n",
       "3                 0                 0                 0                 1   \n",
       "4                 0                 0                 0                 1   \n",
       "\n",
       "   Spectral_Class_O  \n",
       "0                 0  \n",
       "1                 0  \n",
       "2                 0  \n",
       "3                 0  \n",
       "4                 0  \n",
       "\n",
       "[5 rows x 29 columns]"
      ]
     },
     "execution_count": 11,
     "metadata": {},
     "output_type": "execute_result"
    }
   ],
   "source": [
    "for item in willOneHotEncode:\n",
    "    dfStarClassification = pd.concat([dfStarClassification,pd.get_dummies(dfStarClassification[item],prefix=item)],axis=1)\n",
    "    dfStarClassification = dfStarClassification.drop(columns=[item])\n",
    "dfStarClassification.head()"
   ]
  },
  {
   "cell_type": "code",
   "execution_count": 12,
   "id": "c0e9f0d2",
   "metadata": {},
   "outputs": [
    {
     "data": {
      "text/html": [
       "<div>\n",
       "<style scoped>\n",
       "    .dataframe tbody tr th:only-of-type {\n",
       "        vertical-align: middle;\n",
       "    }\n",
       "\n",
       "    .dataframe tbody tr th {\n",
       "        vertical-align: top;\n",
       "    }\n",
       "\n",
       "    .dataframe thead th {\n",
       "        text-align: right;\n",
       "    }\n",
       "</style>\n",
       "<table border=\"1\" class=\"dataframe\">\n",
       "  <thead>\n",
       "    <tr style=\"text-align: right;\">\n",
       "      <th></th>\n",
       "      <th>Temperature</th>\n",
       "      <th>L</th>\n",
       "      <th>R</th>\n",
       "      <th>A_M</th>\n",
       "    </tr>\n",
       "  </thead>\n",
       "  <tbody>\n",
       "    <tr>\n",
       "      <th>count</th>\n",
       "      <td>240.000000</td>\n",
       "      <td>2.400000e+02</td>\n",
       "      <td>240.000000</td>\n",
       "      <td>240.000000</td>\n",
       "    </tr>\n",
       "    <tr>\n",
       "      <th>mean</th>\n",
       "      <td>0.224862</td>\n",
       "      <td>1.261901e-01</td>\n",
       "      <td>0.121709</td>\n",
       "      <td>0.509768</td>\n",
       "    </tr>\n",
       "    <tr>\n",
       "      <th>std</th>\n",
       "      <td>0.250977</td>\n",
       "      <td>2.112409e-01</td>\n",
       "      <td>0.265413</td>\n",
       "      <td>0.329347</td>\n",
       "    </tr>\n",
       "    <tr>\n",
       "      <th>min</th>\n",
       "      <td>0.000000</td>\n",
       "      <td>0.000000e+00</td>\n",
       "      <td>0.000000</td>\n",
       "      <td>0.000000</td>\n",
       "    </tr>\n",
       "    <tr>\n",
       "      <th>25%</th>\n",
       "      <td>0.036921</td>\n",
       "      <td>9.238657e-10</td>\n",
       "      <td>0.000048</td>\n",
       "      <td>0.177846</td>\n",
       "    </tr>\n",
       "    <tr>\n",
       "      <th>50%</th>\n",
       "      <td>0.100812</td>\n",
       "      <td>8.290363e-08</td>\n",
       "      <td>0.000387</td>\n",
       "      <td>0.632677</td>\n",
       "    </tr>\n",
       "    <tr>\n",
       "      <th>75%</th>\n",
       "      <td>0.344618</td>\n",
       "      <td>2.331591e-01</td>\n",
       "      <td>0.021936</td>\n",
       "      <td>0.801048</td>\n",
       "    </tr>\n",
       "    <tr>\n",
       "      <th>max</th>\n",
       "      <td>1.000000</td>\n",
       "      <td>1.000000e+00</td>\n",
       "      <td>1.000000</td>\n",
       "      <td>1.000000</td>\n",
       "    </tr>\n",
       "  </tbody>\n",
       "</table>\n",
       "</div>"
      ],
      "text/plain": [
       "       Temperature             L           R         A_M\n",
       "count   240.000000  2.400000e+02  240.000000  240.000000\n",
       "mean      0.224862  1.261901e-01    0.121709    0.509768\n",
       "std       0.250977  2.112409e-01    0.265413    0.329347\n",
       "min       0.000000  0.000000e+00    0.000000    0.000000\n",
       "25%       0.036921  9.238657e-10    0.000048    0.177846\n",
       "50%       0.100812  8.290363e-08    0.000387    0.632677\n",
       "75%       0.344618  2.331591e-01    0.021936    0.801048\n",
       "max       1.000000  1.000000e+00    1.000000    1.000000"
      ]
     },
     "execution_count": 12,
     "metadata": {},
     "output_type": "execute_result"
    }
   ],
   "source": [
    "minMaxScaler = MinMaxScaler()\n",
    "scaledColums = pd.DataFrame(minMaxScaler.fit_transform(dfStarClassification[willScale]),columns=willScale)\n",
    "scaledColums.describe()"
   ]
  },
  {
   "cell_type": "code",
   "execution_count": 13,
   "id": "08a1b97e",
   "metadata": {},
   "outputs": [
    {
     "data": {
      "text/html": [
       "<div>\n",
       "<style scoped>\n",
       "    .dataframe tbody tr th:only-of-type {\n",
       "        vertical-align: middle;\n",
       "    }\n",
       "\n",
       "    .dataframe tbody tr th {\n",
       "        vertical-align: top;\n",
       "    }\n",
       "\n",
       "    .dataframe thead th {\n",
       "        text-align: right;\n",
       "    }\n",
       "</style>\n",
       "<table border=\"1\" class=\"dataframe\">\n",
       "  <thead>\n",
       "    <tr style=\"text-align: right;\">\n",
       "      <th></th>\n",
       "      <th>Type</th>\n",
       "      <th>Color_Blue</th>\n",
       "      <th>Color_Blue White</th>\n",
       "      <th>Color_Blue white</th>\n",
       "      <th>Color_Blue-White</th>\n",
       "      <th>Color_Blue-white</th>\n",
       "      <th>Color_Orange</th>\n",
       "      <th>Color_Orange-Red</th>\n",
       "      <th>Color_Pale yellow orange</th>\n",
       "      <th>Color_Red</th>\n",
       "      <th>...</th>\n",
       "      <th>Spectral_Class_B</th>\n",
       "      <th>Spectral_Class_F</th>\n",
       "      <th>Spectral_Class_G</th>\n",
       "      <th>Spectral_Class_K</th>\n",
       "      <th>Spectral_Class_M</th>\n",
       "      <th>Spectral_Class_O</th>\n",
       "      <th>Temperature</th>\n",
       "      <th>L</th>\n",
       "      <th>R</th>\n",
       "      <th>A_M</th>\n",
       "    </tr>\n",
       "  </thead>\n",
       "  <tbody>\n",
       "    <tr>\n",
       "      <th>0</th>\n",
       "      <td>0</td>\n",
       "      <td>0</td>\n",
       "      <td>0</td>\n",
       "      <td>0</td>\n",
       "      <td>0</td>\n",
       "      <td>0</td>\n",
       "      <td>0</td>\n",
       "      <td>0</td>\n",
       "      <td>0</td>\n",
       "      <td>1</td>\n",
       "      <td>...</td>\n",
       "      <td>0</td>\n",
       "      <td>0</td>\n",
       "      <td>0</td>\n",
       "      <td>0</td>\n",
       "      <td>1</td>\n",
       "      <td>0</td>\n",
       "      <td>0.029663</td>\n",
       "      <td>2.731275e-09</td>\n",
       "      <td>0.000083</td>\n",
       "      <td>0.876798</td>\n",
       "    </tr>\n",
       "    <tr>\n",
       "      <th>1</th>\n",
       "      <td>0</td>\n",
       "      <td>0</td>\n",
       "      <td>0</td>\n",
       "      <td>0</td>\n",
       "      <td>0</td>\n",
       "      <td>0</td>\n",
       "      <td>0</td>\n",
       "      <td>0</td>\n",
       "      <td>0</td>\n",
       "      <td>1</td>\n",
       "      <td>...</td>\n",
       "      <td>0</td>\n",
       "      <td>0</td>\n",
       "      <td>0</td>\n",
       "      <td>0</td>\n",
       "      <td>1</td>\n",
       "      <td>0</td>\n",
       "      <td>0.028980</td>\n",
       "      <td>4.944550e-10</td>\n",
       "      <td>0.000075</td>\n",
       "      <td>0.891807</td>\n",
       "    </tr>\n",
       "    <tr>\n",
       "      <th>2</th>\n",
       "      <td>0</td>\n",
       "      <td>0</td>\n",
       "      <td>0</td>\n",
       "      <td>0</td>\n",
       "      <td>0</td>\n",
       "      <td>0</td>\n",
       "      <td>0</td>\n",
       "      <td>0</td>\n",
       "      <td>0</td>\n",
       "      <td>1</td>\n",
       "      <td>...</td>\n",
       "      <td>0</td>\n",
       "      <td>0</td>\n",
       "      <td>0</td>\n",
       "      <td>0</td>\n",
       "      <td>1</td>\n",
       "      <td>0</td>\n",
       "      <td>0.017367</td>\n",
       "      <td>2.590003e-10</td>\n",
       "      <td>0.000048</td>\n",
       "      <td>0.957473</td>\n",
       "    </tr>\n",
       "    <tr>\n",
       "      <th>3</th>\n",
       "      <td>0</td>\n",
       "      <td>0</td>\n",
       "      <td>0</td>\n",
       "      <td>0</td>\n",
       "      <td>0</td>\n",
       "      <td>0</td>\n",
       "      <td>0</td>\n",
       "      <td>0</td>\n",
       "      <td>0</td>\n",
       "      <td>1</td>\n",
       "      <td>...</td>\n",
       "      <td>0</td>\n",
       "      <td>0</td>\n",
       "      <td>0</td>\n",
       "      <td>0</td>\n",
       "      <td>1</td>\n",
       "      <td>0</td>\n",
       "      <td>0.022622</td>\n",
       "      <td>1.412729e-10</td>\n",
       "      <td>0.000078</td>\n",
       "      <td>0.893371</td>\n",
       "    </tr>\n",
       "    <tr>\n",
       "      <th>4</th>\n",
       "      <td>0</td>\n",
       "      <td>0</td>\n",
       "      <td>0</td>\n",
       "      <td>0</td>\n",
       "      <td>0</td>\n",
       "      <td>0</td>\n",
       "      <td>0</td>\n",
       "      <td>0</td>\n",
       "      <td>0</td>\n",
       "      <td>1</td>\n",
       "      <td>...</td>\n",
       "      <td>0</td>\n",
       "      <td>0</td>\n",
       "      <td>0</td>\n",
       "      <td>0</td>\n",
       "      <td>1</td>\n",
       "      <td>0</td>\n",
       "      <td>0.000000</td>\n",
       "      <td>6.828189e-11</td>\n",
       "      <td>0.000049</td>\n",
       "      <td>1.000000</td>\n",
       "    </tr>\n",
       "    <tr>\n",
       "      <th>...</th>\n",
       "      <td>...</td>\n",
       "      <td>...</td>\n",
       "      <td>...</td>\n",
       "      <td>...</td>\n",
       "      <td>...</td>\n",
       "      <td>...</td>\n",
       "      <td>...</td>\n",
       "      <td>...</td>\n",
       "      <td>...</td>\n",
       "      <td>...</td>\n",
       "      <td>...</td>\n",
       "      <td>...</td>\n",
       "      <td>...</td>\n",
       "      <td>...</td>\n",
       "      <td>...</td>\n",
       "      <td>...</td>\n",
       "      <td>...</td>\n",
       "      <td>...</td>\n",
       "      <td>...</td>\n",
       "      <td>...</td>\n",
       "      <td>...</td>\n",
       "    </tr>\n",
       "    <tr>\n",
       "      <th>235</th>\n",
       "      <td>5</td>\n",
       "      <td>1</td>\n",
       "      <td>0</td>\n",
       "      <td>0</td>\n",
       "      <td>0</td>\n",
       "      <td>0</td>\n",
       "      <td>0</td>\n",
       "      <td>0</td>\n",
       "      <td>0</td>\n",
       "      <td>0</td>\n",
       "      <td>...</td>\n",
       "      <td>0</td>\n",
       "      <td>0</td>\n",
       "      <td>0</td>\n",
       "      <td>0</td>\n",
       "      <td>0</td>\n",
       "      <td>1</td>\n",
       "      <td>0.972150</td>\n",
       "      <td>4.412776e-01</td>\n",
       "      <td>0.695919</td>\n",
       "      <td>0.062226</td>\n",
       "    </tr>\n",
       "    <tr>\n",
       "      <th>236</th>\n",
       "      <td>5</td>\n",
       "      <td>1</td>\n",
       "      <td>0</td>\n",
       "      <td>0</td>\n",
       "      <td>0</td>\n",
       "      <td>0</td>\n",
       "      <td>0</td>\n",
       "      <td>0</td>\n",
       "      <td>0</td>\n",
       "      <td>0</td>\n",
       "      <td>...</td>\n",
       "      <td>0</td>\n",
       "      <td>0</td>\n",
       "      <td>0</td>\n",
       "      <td>0</td>\n",
       "      <td>0</td>\n",
       "      <td>1</td>\n",
       "      <td>0.759307</td>\n",
       "      <td>9.818959e-01</td>\n",
       "      <td>0.612777</td>\n",
       "      <td>0.040338</td>\n",
       "    </tr>\n",
       "    <tr>\n",
       "      <th>237</th>\n",
       "      <td>5</td>\n",
       "      <td>0</td>\n",
       "      <td>0</td>\n",
       "      <td>0</td>\n",
       "      <td>0</td>\n",
       "      <td>0</td>\n",
       "      <td>0</td>\n",
       "      <td>0</td>\n",
       "      <td>0</td>\n",
       "      <td>0</td>\n",
       "      <td>...</td>\n",
       "      <td>0</td>\n",
       "      <td>0</td>\n",
       "      <td>0</td>\n",
       "      <td>0</td>\n",
       "      <td>0</td>\n",
       "      <td>0</td>\n",
       "      <td>0.181025</td>\n",
       "      <td>6.327765e-01</td>\n",
       "      <td>0.730304</td>\n",
       "      <td>0.037211</td>\n",
       "    </tr>\n",
       "    <tr>\n",
       "      <th>238</th>\n",
       "      <td>5</td>\n",
       "      <td>0</td>\n",
       "      <td>0</td>\n",
       "      <td>0</td>\n",
       "      <td>0</td>\n",
       "      <td>0</td>\n",
       "      <td>0</td>\n",
       "      <td>0</td>\n",
       "      <td>0</td>\n",
       "      <td>0</td>\n",
       "      <td>...</td>\n",
       "      <td>0</td>\n",
       "      <td>0</td>\n",
       "      <td>0</td>\n",
       "      <td>0</td>\n",
       "      <td>0</td>\n",
       "      <td>0</td>\n",
       "      <td>0.191692</td>\n",
       "      <td>4.767253e-01</td>\n",
       "      <td>0.570694</td>\n",
       "      <td>0.021576</td>\n",
       "    </tr>\n",
       "    <tr>\n",
       "      <th>239</th>\n",
       "      <td>5</td>\n",
       "      <td>1</td>\n",
       "      <td>0</td>\n",
       "      <td>0</td>\n",
       "      <td>0</td>\n",
       "      <td>0</td>\n",
       "      <td>0</td>\n",
       "      <td>0</td>\n",
       "      <td>0</td>\n",
       "      <td>0</td>\n",
       "      <td>...</td>\n",
       "      <td>0</td>\n",
       "      <td>0</td>\n",
       "      <td>0</td>\n",
       "      <td>0</td>\n",
       "      <td>0</td>\n",
       "      <td>1</td>\n",
       "      <td>0.944352</td>\n",
       "      <td>3.471816e-01</td>\n",
       "      <td>0.915063</td>\n",
       "      <td>0.128831</td>\n",
       "    </tr>\n",
       "  </tbody>\n",
       "</table>\n",
       "<p>240 rows × 29 columns</p>\n",
       "</div>"
      ],
      "text/plain": [
       "    Type  Color_Blue  Color_Blue White  Color_Blue white  Color_Blue-White  \\\n",
       "0      0           0                 0                 0                 0   \n",
       "1      0           0                 0                 0                 0   \n",
       "2      0           0                 0                 0                 0   \n",
       "3      0           0                 0                 0                 0   \n",
       "4      0           0                 0                 0                 0   \n",
       "..   ...         ...               ...               ...               ...   \n",
       "235    5           1                 0                 0                 0   \n",
       "236    5           1                 0                 0                 0   \n",
       "237    5           0                 0                 0                 0   \n",
       "238    5           0                 0                 0                 0   \n",
       "239    5           1                 0                 0                 0   \n",
       "\n",
       "     Color_Blue-white  Color_Orange  Color_Orange-Red  \\\n",
       "0                   0             0                 0   \n",
       "1                   0             0                 0   \n",
       "2                   0             0                 0   \n",
       "3                   0             0                 0   \n",
       "4                   0             0                 0   \n",
       "..                ...           ...               ...   \n",
       "235                 0             0                 0   \n",
       "236                 0             0                 0   \n",
       "237                 0             0                 0   \n",
       "238                 0             0                 0   \n",
       "239                 0             0                 0   \n",
       "\n",
       "     Color_Pale yellow orange  Color_Red  ...  Spectral_Class_B  \\\n",
       "0                           0          1  ...                 0   \n",
       "1                           0          1  ...                 0   \n",
       "2                           0          1  ...                 0   \n",
       "3                           0          1  ...                 0   \n",
       "4                           0          1  ...                 0   \n",
       "..                        ...        ...  ...               ...   \n",
       "235                         0          0  ...                 0   \n",
       "236                         0          0  ...                 0   \n",
       "237                         0          0  ...                 0   \n",
       "238                         0          0  ...                 0   \n",
       "239                         0          0  ...                 0   \n",
       "\n",
       "     Spectral_Class_F  Spectral_Class_G  Spectral_Class_K  Spectral_Class_M  \\\n",
       "0                   0                 0                 0                 1   \n",
       "1                   0                 0                 0                 1   \n",
       "2                   0                 0                 0                 1   \n",
       "3                   0                 0                 0                 1   \n",
       "4                   0                 0                 0                 1   \n",
       "..                ...               ...               ...               ...   \n",
       "235                 0                 0                 0                 0   \n",
       "236                 0                 0                 0                 0   \n",
       "237                 0                 0                 0                 0   \n",
       "238                 0                 0                 0                 0   \n",
       "239                 0                 0                 0                 0   \n",
       "\n",
       "     Spectral_Class_O  Temperature             L         R       A_M  \n",
       "0                   0     0.029663  2.731275e-09  0.000083  0.876798  \n",
       "1                   0     0.028980  4.944550e-10  0.000075  0.891807  \n",
       "2                   0     0.017367  2.590003e-10  0.000048  0.957473  \n",
       "3                   0     0.022622  1.412729e-10  0.000078  0.893371  \n",
       "4                   0     0.000000  6.828189e-11  0.000049  1.000000  \n",
       "..                ...          ...           ...       ...       ...  \n",
       "235                 1     0.972150  4.412776e-01  0.695919  0.062226  \n",
       "236                 1     0.759307  9.818959e-01  0.612777  0.040338  \n",
       "237                 0     0.181025  6.327765e-01  0.730304  0.037211  \n",
       "238                 0     0.191692  4.767253e-01  0.570694  0.021576  \n",
       "239                 1     0.944352  3.471816e-01  0.915063  0.128831  \n",
       "\n",
       "[240 rows x 29 columns]"
      ]
     },
     "execution_count": 13,
     "metadata": {},
     "output_type": "execute_result"
    }
   ],
   "source": [
    "dfStarClassification.drop(willScale,axis=1,inplace=True)\n",
    "dfStarClassification = pd.concat([dfStarClassification,scaledColums],axis=1)\n",
    "dfStarClassification"
   ]
  },
  {
   "cell_type": "code",
   "execution_count": 14,
   "id": "68f12ce2",
   "metadata": {},
   "outputs": [
    {
     "data": {
      "text/html": [
       "<div>\n",
       "<style scoped>\n",
       "    .dataframe tbody tr th:only-of-type {\n",
       "        vertical-align: middle;\n",
       "    }\n",
       "\n",
       "    .dataframe tbody tr th {\n",
       "        vertical-align: top;\n",
       "    }\n",
       "\n",
       "    .dataframe thead th {\n",
       "        text-align: right;\n",
       "    }\n",
       "</style>\n",
       "<table border=\"1\" class=\"dataframe\">\n",
       "  <thead>\n",
       "    <tr style=\"text-align: right;\">\n",
       "      <th></th>\n",
       "      <th>Color_Blue</th>\n",
       "      <th>Color_Blue White</th>\n",
       "      <th>Color_Blue white</th>\n",
       "      <th>Color_Blue-White</th>\n",
       "      <th>Color_Blue-white</th>\n",
       "      <th>Color_Orange</th>\n",
       "      <th>Color_Orange-Red</th>\n",
       "      <th>Color_Pale yellow orange</th>\n",
       "      <th>Color_Red</th>\n",
       "      <th>Color_White</th>\n",
       "      <th>...</th>\n",
       "      <th>Spectral_Class_B</th>\n",
       "      <th>Spectral_Class_F</th>\n",
       "      <th>Spectral_Class_G</th>\n",
       "      <th>Spectral_Class_K</th>\n",
       "      <th>Spectral_Class_M</th>\n",
       "      <th>Spectral_Class_O</th>\n",
       "      <th>Temperature</th>\n",
       "      <th>L</th>\n",
       "      <th>R</th>\n",
       "      <th>A_M</th>\n",
       "    </tr>\n",
       "  </thead>\n",
       "  <tbody>\n",
       "    <tr>\n",
       "      <th>Color_Blue</th>\n",
       "      <td>1.000000</td>\n",
       "      <td>0.115033</td>\n",
       "      <td>0.071822</td>\n",
       "      <td>0.035685</td>\n",
       "      <td>0.192294</td>\n",
       "      <td>0.050572</td>\n",
       "      <td>0.035685</td>\n",
       "      <td>0.035685</td>\n",
       "      <td>0.516047</td>\n",
       "      <td>0.095622</td>\n",
       "      <td>...</td>\n",
       "      <td>0.131815</td>\n",
       "      <td>0.152320</td>\n",
       "      <td>0.035685</td>\n",
       "      <td>0.088339</td>\n",
       "      <td>0.511743</td>\n",
       "      <td>0.810643</td>\n",
       "      <td>0.660964</td>\n",
       "      <td>0.439924</td>\n",
       "      <td>0.023897</td>\n",
       "      <td>0.355073</td>\n",
       "    </tr>\n",
       "    <tr>\n",
       "      <th>Color_Blue White</th>\n",
       "      <td>0.115033</td>\n",
       "      <td>1.000000</td>\n",
       "      <td>0.027146</td>\n",
       "      <td>0.013488</td>\n",
       "      <td>0.072680</td>\n",
       "      <td>0.019114</td>\n",
       "      <td>0.013488</td>\n",
       "      <td>0.013488</td>\n",
       "      <td>0.195047</td>\n",
       "      <td>0.036142</td>\n",
       "      <td>...</td>\n",
       "      <td>0.375237</td>\n",
       "      <td>0.057572</td>\n",
       "      <td>0.013488</td>\n",
       "      <td>0.033389</td>\n",
       "      <td>0.193421</td>\n",
       "      <td>0.093250</td>\n",
       "      <td>0.090590</td>\n",
       "      <td>0.124822</td>\n",
       "      <td>0.095816</td>\n",
       "      <td>0.153523</td>\n",
       "    </tr>\n",
       "    <tr>\n",
       "      <th>Color_Blue white</th>\n",
       "      <td>0.071822</td>\n",
       "      <td>0.027146</td>\n",
       "      <td>1.000000</td>\n",
       "      <td>0.008421</td>\n",
       "      <td>0.045379</td>\n",
       "      <td>0.011934</td>\n",
       "      <td>0.008421</td>\n",
       "      <td>0.008421</td>\n",
       "      <td>0.121781</td>\n",
       "      <td>0.022566</td>\n",
       "      <td>...</td>\n",
       "      <td>0.101983</td>\n",
       "      <td>0.035946</td>\n",
       "      <td>0.008421</td>\n",
       "      <td>0.020847</td>\n",
       "      <td>0.120765</td>\n",
       "      <td>0.058222</td>\n",
       "      <td>0.001079</td>\n",
       "      <td>0.077934</td>\n",
       "      <td>0.059825</td>\n",
       "      <td>0.110706</td>\n",
       "    </tr>\n",
       "    <tr>\n",
       "      <th>Color_Blue-White</th>\n",
       "      <td>0.035685</td>\n",
       "      <td>0.013488</td>\n",
       "      <td>0.008421</td>\n",
       "      <td>1.000000</td>\n",
       "      <td>0.022547</td>\n",
       "      <td>0.005930</td>\n",
       "      <td>0.004184</td>\n",
       "      <td>0.004184</td>\n",
       "      <td>0.060507</td>\n",
       "      <td>0.011212</td>\n",
       "      <td>...</td>\n",
       "      <td>0.031498</td>\n",
       "      <td>0.017860</td>\n",
       "      <td>0.004184</td>\n",
       "      <td>0.010358</td>\n",
       "      <td>0.060002</td>\n",
       "      <td>0.028928</td>\n",
       "      <td>0.010535</td>\n",
       "      <td>0.038708</td>\n",
       "      <td>0.029413</td>\n",
       "      <td>0.026232</td>\n",
       "    </tr>\n",
       "    <tr>\n",
       "      <th>Color_Blue-white</th>\n",
       "      <td>0.192294</td>\n",
       "      <td>0.072680</td>\n",
       "      <td>0.045379</td>\n",
       "      <td>0.022547</td>\n",
       "      <td>1.000000</td>\n",
       "      <td>0.031953</td>\n",
       "      <td>0.022547</td>\n",
       "      <td>0.022547</td>\n",
       "      <td>0.326050</td>\n",
       "      <td>0.060416</td>\n",
       "      <td>...</td>\n",
       "      <td>0.443341</td>\n",
       "      <td>0.096239</td>\n",
       "      <td>0.022547</td>\n",
       "      <td>0.055815</td>\n",
       "      <td>0.323330</td>\n",
       "      <td>0.155882</td>\n",
       "      <td>0.298831</td>\n",
       "      <td>0.002856</td>\n",
       "      <td>0.037644</td>\n",
       "      <td>0.265117</td>\n",
       "    </tr>\n",
       "  </tbody>\n",
       "</table>\n",
       "<p>5 rows × 28 columns</p>\n",
       "</div>"
      ],
      "text/plain": [
       "                  Color_Blue  Color_Blue White  Color_Blue white  \\\n",
       "Color_Blue          1.000000          0.115033          0.071822   \n",
       "Color_Blue White    0.115033          1.000000          0.027146   \n",
       "Color_Blue white    0.071822          0.027146          1.000000   \n",
       "Color_Blue-White    0.035685          0.013488          0.008421   \n",
       "Color_Blue-white    0.192294          0.072680          0.045379   \n",
       "\n",
       "                  Color_Blue-White  Color_Blue-white  Color_Orange  \\\n",
       "Color_Blue                0.035685          0.192294      0.050572   \n",
       "Color_Blue White          0.013488          0.072680      0.019114   \n",
       "Color_Blue white          0.008421          0.045379      0.011934   \n",
       "Color_Blue-White          1.000000          0.022547      0.005930   \n",
       "Color_Blue-white          0.022547          1.000000      0.031953   \n",
       "\n",
       "                  Color_Orange-Red  Color_Pale yellow orange  Color_Red  \\\n",
       "Color_Blue                0.035685                  0.035685   0.516047   \n",
       "Color_Blue White          0.013488                  0.013488   0.195047   \n",
       "Color_Blue white          0.008421                  0.008421   0.121781   \n",
       "Color_Blue-White          0.004184                  0.004184   0.060507   \n",
       "Color_Blue-white          0.022547                  0.022547   0.326050   \n",
       "\n",
       "                  Color_White  ...  Spectral_Class_B  Spectral_Class_F  \\\n",
       "Color_Blue           0.095622  ...          0.131815          0.152320   \n",
       "Color_Blue White     0.036142  ...          0.375237          0.057572   \n",
       "Color_Blue white     0.022566  ...          0.101983          0.035946   \n",
       "Color_Blue-White     0.011212  ...          0.031498          0.017860   \n",
       "Color_Blue-white     0.060416  ...          0.443341          0.096239   \n",
       "\n",
       "                  Spectral_Class_G  Spectral_Class_K  Spectral_Class_M  \\\n",
       "Color_Blue                0.035685          0.088339          0.511743   \n",
       "Color_Blue White          0.013488          0.033389          0.193421   \n",
       "Color_Blue white          0.008421          0.020847          0.120765   \n",
       "Color_Blue-White          0.004184          0.010358          0.060002   \n",
       "Color_Blue-white          0.022547          0.055815          0.323330   \n",
       "\n",
       "                  Spectral_Class_O  Temperature         L         R       A_M  \n",
       "Color_Blue                0.810643     0.660964  0.439924  0.023897  0.355073  \n",
       "Color_Blue White          0.093250     0.090590  0.124822  0.095816  0.153523  \n",
       "Color_Blue white          0.058222     0.001079  0.077934  0.059825  0.110706  \n",
       "Color_Blue-White          0.028928     0.010535  0.038708  0.029413  0.026232  \n",
       "Color_Blue-white          0.155882     0.298831  0.002856  0.037644  0.265117  \n",
       "\n",
       "[5 rows x 28 columns]"
      ]
     },
     "execution_count": 14,
     "metadata": {},
     "output_type": "execute_result"
    }
   ],
   "source": [
    "correlation = dfStarClassification.corr().abs()\n",
    "correlation.head()"
   ]
  },
  {
   "cell_type": "code",
   "execution_count": 15,
   "id": "ec1ae196",
   "metadata": {},
   "outputs": [],
   "source": [
    "target = [\"Type\"]\n",
    "features = dfStarClassification.columns.drop(target)\n",
    "train,test = train_test_split(dfStarClassification,test_size = 0.33,random_state= 12)\n",
    "xTrain = train[features]\n",
    "yTrain = train[target]\n",
    "xTest  = test[features]\n",
    "yTest = test[target]"
   ]
  },
  {
   "cell_type": "code",
   "execution_count": 16,
   "id": "54ca04e2",
   "metadata": {},
   "outputs": [
    {
     "data": {
      "text/plain": [
       "KNeighborsClassifier(n_neighbors=3)"
      ]
     },
     "execution_count": 16,
     "metadata": {},
     "output_type": "execute_result"
    }
   ],
   "source": [
    "knnModel = KNeighborsClassifier(n_neighbors=3) \n",
    "knnModel.fit(xTrain,yTrain.values.ravel())"
   ]
  },
  {
   "cell_type": "code",
   "execution_count": 17,
   "id": "d8b75ca2",
   "metadata": {
    "scrolled": true
   },
   "outputs": [
    {
     "data": {
      "text/plain": [
       "0.9875"
      ]
     },
     "execution_count": 17,
     "metadata": {},
     "output_type": "execute_result"
    }
   ],
   "source": [
    "yPred= knnModel.predict(xTest)\n",
    "accuracy_score(yTest,yPred)"
   ]
  },
  {
   "cell_type": "code",
   "execution_count": 18,
   "id": "489b1fc2",
   "metadata": {},
   "outputs": [
    {
     "name": "stdout",
     "output_type": "stream",
     "text": [
      "              precision    recall  f1-score   support\n",
      "\n",
      "           0       1.00      1.00      1.00        10\n",
      "           1       1.00      1.00      1.00        14\n",
      "           2       0.94      1.00      0.97        17\n",
      "           3       1.00      1.00      1.00        11\n",
      "           4       1.00      1.00      1.00        14\n",
      "           5       1.00      0.93      0.96        14\n",
      "\n",
      "    accuracy                           0.99        80\n",
      "   macro avg       0.99      0.99      0.99        80\n",
      "weighted avg       0.99      0.99      0.99        80\n",
      "\n"
     ]
    }
   ],
   "source": [
    "print(classification_report(yTest,yPred))"
   ]
  },
  {
   "cell_type": "code",
   "execution_count": 19,
   "id": "817a2f89",
   "metadata": {},
   "outputs": [
    {
     "data": {
      "text/plain": [
       "<AxesSubplot:>"
      ]
     },
     "execution_count": 19,
     "metadata": {},
     "output_type": "execute_result"
    },
    {
     "data": {
      "image/png": "[encoded data removed]",
      "text/plain": [
       "<Figure size 432x288 with 2 Axes>"
      ]
     },
     "metadata": {
      "needs_background": "light"
     },
     "output_type": "display_data"
    }
   ],
   "source": [
    "sns.heatmap(confusion_matrix(yTest,yPred),annot=True)"
   ]
  },
  {
   "cell_type": "code",
   "execution_count": 20,
   "id": "07879865",
   "metadata": {},
   "outputs": [
    {
     "data": {
      "text/plain": [
       "DecisionTreeClassifier(max_depth=4)"
      ]
     },
     "execution_count": 20,
     "metadata": {},
     "output_type": "execute_result"
    }
   ],
   "source": [
    "dTree = DecisionTreeClassifier(max_depth=4)\n",
    "dTree.fit(xTrain, yTrain)"
   ]
  },
  {
   "cell_type": "code",
   "execution_count": 21,
   "id": "f1e09180",
   "metadata": {},
   "outputs": [
    {
     "data": {
      "image/png": "[encoded data removed]",
      "text/plain": [
       "<Figure size 864x864 with 1 Axes>"
      ]
     },
     "metadata": {
      "needs_background": "light"
     },
     "output_type": "display_data"
    }
   ],
   "source": [
    "plt.figure(figsize=(12,12))\n",
    "plot_tree(dTree, fontsize=10)\n",
    "plt.show()"
   ]
  },
  {
   "cell_type": "code",
   "execution_count": 22,
   "id": "f77cdb4f",
   "metadata": {},
   "outputs": [
    {
     "name": "stdout",
     "output_type": "stream",
     "text": [
      "              precision    recall  f1-score   support\n",
      "\n",
      "           0       1.00      1.00      1.00        10\n",
      "           1       0.93      1.00      0.97        14\n",
      "           2       1.00      1.00      1.00        17\n",
      "           3       1.00      0.91      0.95        11\n",
      "           4       1.00      0.93      0.96        14\n",
      "           5       0.93      1.00      0.97        14\n",
      "\n",
      "    accuracy                           0.97        80\n",
      "   macro avg       0.98      0.97      0.97        80\n",
      "weighted avg       0.98      0.97      0.97        80\n",
      "\n"
     ]
    }
   ],
   "source": [
    "yPred = dTree.predict(xTest)\n",
    "print(classification_report(yTest,yPred))"
   ]
  },
  {
   "cell_type": "code",
   "execution_count": 23,
   "id": "01ff766c",
   "metadata": {},
   "outputs": [
    {
     "data": {
      "text/plain": [
       "0.975"
      ]
     },
     "execution_count": 23,
     "metadata": {},
     "output_type": "execute_result"
    }
   ],
   "source": [
    "yPred= dTree.predict(xTest)\n",
    "accuracy_score(yTest,yPred)"
   ]
  },
  {
   "cell_type": "code",
   "execution_count": 24,
   "id": "0e55cf24",
   "metadata": {},
   "outputs": [
    {
     "data": {
      "text/plain": [
       "<AxesSubplot:>"
      ]
     },
     "execution_count": 24,
     "metadata": {},
     "output_type": "execute_result"
    },
    {
     "data": {
      "image/png": "[encoded data removed]",
      "text/plain": [
       "<Figure size 432x288 with 2 Axes>"
      ]
     },
     "metadata": {
      "needs_background": "light"
     },
     "output_type": "display_data"
    }
   ],
   "source": [
    "sns.heatmap(confusion_matrix(yTest,yPred),annot=True)"
   ]
  },
  {
   "cell_type": "code",
   "execution_count": 25,
   "id": "87cd6903",
   "metadata": {},
   "outputs": [
    {
     "data": {
      "text/plain": [
       "SVC(C=1, gamma=1, kernel='linear')"
      ]
     },
     "execution_count": 25,
     "metadata": {},
     "output_type": "execute_result"
    }
   ],
   "source": [
    "SVC_clsfr = SVC(kernel='linear', C=1, gamma=1)\n",
    "SVC_clsfr.fit(xTrain,yTrain.values.ravel())"
   ]
  },
  {
   "cell_type": "code",
   "execution_count": 26,
   "id": "d9db40d3",
   "metadata": {},
   "outputs": [
    {
     "data": {
      "text/plain": [
       "0.8375"
      ]
     },
     "execution_count": 26,
     "metadata": {},
     "output_type": "execute_result"
    }
   ],
   "source": [
    "yPred= SVC_clsfr.predict(xTest)\n",
    "accuracy_score(yTest,yPred)"
   ]
  },
  {
   "cell_type": "code",
   "execution_count": 27,
   "id": "9fe6d7a4",
   "metadata": {},
   "outputs": [
    {
     "name": "stdout",
     "output_type": "stream",
     "text": [
      "              precision    recall  f1-score   support\n",
      "\n",
      "           0       0.45      1.00      0.62        10\n",
      "           1       1.00      0.14      0.25        14\n",
      "           2       1.00      1.00      1.00        17\n",
      "           3       1.00      0.91      0.95        11\n",
      "           4       0.93      1.00      0.97        14\n",
      "           5       1.00      1.00      1.00        14\n",
      "\n",
      "    accuracy                           0.84        80\n",
      "   macro avg       0.90      0.84      0.80        80\n",
      "weighted avg       0.92      0.84      0.81        80\n",
      "\n"
     ]
    }
   ],
   "source": [
    "print(classification_report(yTest,yPred))"
   ]
  },
  {
   "cell_type": "code",
   "execution_count": 28,
   "id": "c794a3cb",
   "metadata": {},
   "outputs": [
    {
     "data": {
      "text/plain": [
       "<AxesSubplot:>"
      ]
     },
     "execution_count": 28,
     "metadata": {},
     "output_type": "execute_result"
    },
    {
     "data": {
      "image/png": "[encoded data removed]",
      "text/plain": [
       "<Figure size 432x288 with 2 Axes>"
      ]
     },
     "metadata": {
      "needs_background": "light"
     },
     "output_type": "display_data"
    }
   ],
   "source": [
    "sns.heatmap(confusion_matrix(yTest,yPred),annot=True)"
   ]
  },
  {
   "cell_type": "code",
   "execution_count": 29,
   "id": "43004d1f",
   "metadata": {},
   "outputs": [
    {
     "data": {
      "text/plain": [
       "RandomForestClassifier(n_estimators=200, random_state=12)"
      ]
     },
     "execution_count": 29,
     "metadata": {},
     "output_type": "execute_result"
    }
   ],
   "source": [
    "rForest = RandomForestClassifier(n_estimators = 200, random_state = 12)\n",
    "rForest.fit(xTrain,yTrain.values.ravel())"
   ]
  },
  {
   "cell_type": "code",
   "execution_count": 30,
   "id": "1da9c465",
   "metadata": {},
   "outputs": [
    {
     "data": {
      "text/plain": [
       "1.0"
      ]
     },
     "execution_count": 30,
     "metadata": {},
     "output_type": "execute_result"
    }
   ],
   "source": [
    "yPred= rForest.predict(xTest)\n",
    "accuracy_score(yTest,yPred)"
   ]
  },
  {
   "cell_type": "code",
   "execution_count": 31,
   "id": "5785266f",
   "metadata": {},
   "outputs": [
    {
     "name": "stdout",
     "output_type": "stream",
     "text": [
      "              precision    recall  f1-score   support\n",
      "\n",
      "           0       1.00      1.00      1.00        10\n",
      "           1       1.00      1.00      1.00        14\n",
      "           2       1.00      1.00      1.00        17\n",
      "           3       1.00      1.00      1.00        11\n",
      "           4       1.00      1.00      1.00        14\n",
      "           5       1.00      1.00      1.00        14\n",
      "\n",
      "    accuracy                           1.00        80\n",
      "   macro avg       1.00      1.00      1.00        80\n",
      "weighted avg       1.00      1.00      1.00        80\n",
      "\n"
     ]
    }
   ],
   "source": [
    "print(classification_report(yTest,yPred))"
   ]
  },
  {
   "cell_type": "code",
   "execution_count": 32,
   "id": "84729c9f",
   "metadata": {},
   "outputs": [
    {
     "data": {
      "text/plain": [
       "<AxesSubplot:>"
      ]
     },
     "execution_count": 32,
     "metadata": {},
     "output_type": "execute_result"
    },
    {
     "data": {
      "image/png": "[encoded data removed]",
      "text/plain": [
       "<Figure size 432x288 with 2 Axes>"
      ]
     },
     "metadata": {
      "needs_background": "light"
     },
     "output_type": "display_data"
    }
   ],
   "source": [
    "sns.heatmap(confusion_matrix(yTest,yPred),annot=True)"
   ]
  },
  {
   "cell_type": "code",
   "execution_count": 33,
   "id": "95362145",
   "metadata": {},
   "outputs": [
    {
     "data": {
      "text/plain": [
       "AdaBoostClassifier(learning_rate=0.1, n_estimators=200)"
      ]
     },
     "execution_count": 33,
     "metadata": {},
     "output_type": "execute_result"
    }
   ],
   "source": [
    "AdaB = AdaBoostClassifier(n_estimators=200, learning_rate=0.1)\n",
    "AdaB.fit(xTrain,yTrain.values.ravel())"
   ]
  },
  {
   "cell_type": "code",
   "execution_count": 34,
   "id": "a440b684",
   "metadata": {},
   "outputs": [
    {
     "data": {
      "text/plain": [
       "0.9875"
      ]
     },
     "execution_count": 34,
     "metadata": {},
     "output_type": "execute_result"
    }
   ],
   "source": [
    "yPred= AdaB.predict(xTest)\n",
    "accuracy_score(yTest,yPred)"
   ]
  },
  {
   "cell_type": "code",
   "execution_count": 35,
   "id": "0b2ba35f",
   "metadata": {},
   "outputs": [
    {
     "name": "stdout",
     "output_type": "stream",
     "text": [
      "              precision    recall  f1-score   support\n",
      "\n",
      "           0       1.00      1.00      1.00        10\n",
      "           1       0.93      1.00      0.97        14\n",
      "           2       1.00      1.00      1.00        17\n",
      "           3       1.00      0.91      0.95        11\n",
      "           4       1.00      1.00      1.00        14\n",
      "           5       1.00      1.00      1.00        14\n",
      "\n",
      "    accuracy                           0.99        80\n",
      "   macro avg       0.99      0.98      0.99        80\n",
      "weighted avg       0.99      0.99      0.99        80\n",
      "\n"
     ]
    }
   ],
   "source": [
    "print(classification_report(yTest,yPred))"
   ]
  },
  {
   "cell_type": "code",
   "execution_count": 36,
   "id": "8c28afd6",
   "metadata": {},
   "outputs": [
    {
     "data": {
      "text/plain": [
       "<AxesSubplot:>"
      ]
     },
     "execution_count": 36,
     "metadata": {},
     "output_type": "execute_result"
    },
    {
     "data": {
      "image/png": "[encoded data removed]",
      "text/plain": [
       "<Figure size 432x288 with 2 Axes>"
      ]
     },
     "metadata": {
      "needs_background": "light"
     },
     "output_type": "display_data"
    }
   ],
   "source": [
    "sns.heatmap(confusion_matrix(yTest,yPred),annot=True)"
   ]
  },
  {
   "cell_type": "code",
   "execution_count": 37,
   "id": "80ed6402",
   "metadata": {},
   "outputs": [],
   "source": [
    "param_grid = {'C': [0.1, 1, 10, 100, 1000],'gamma': [1, 0.1, 0.01, 0.001, 0.0001]}\n",
    "SVC_clsfr = SVC(kernel='linear')\n",
    "grid_search = GridSearchCV(SVC_clsfr, param_grid, cv=5,\n",
    "                           scoring='r2', \n",
    "                           return_train_score=True)\n",
    "grid_search.fit(xTrain, yTrain.values.ravel())\n",
    "results = pd.DataFrame(grid_search.cv_results_)"
   ]
  },
  {
   "cell_type": "code",
   "execution_count": 38,
   "id": "fa4db0a8",
   "metadata": {},
   "outputs": [
    {
     "name": "stdout",
     "output_type": "stream",
     "text": [
      "The best score is 0.9787821431790393\n",
      "The best parameters are:\n",
      " SVC(C=100, gamma=1, kernel='linear')\n"
     ]
    }
   ],
   "source": [
    "print(\"The best score is\", grid_search.best_score_) \n",
    "print(\"The best parameters are:\\n\", grid_search.best_estimator_)"
   ]
  },
  {
   "cell_type": "code",
   "execution_count": 39,
   "id": "eb4f3c6f",
   "metadata": {},
   "outputs": [],
   "source": [
    "param_grid={'n_estimators':[500,1000,2000],'learning_rate':[0.001,0.01,0.1]}\n",
    "AdaB = AdaBoostClassifier()\n",
    "grid_search=GridSearchCV(AdaB, param_grid, cv=5,\n",
    "                           scoring='r2', \n",
    "                           return_train_score=True,n_jobs=1)\n",
    "grid_search.fit(xTrain, yTrain.values.ravel())\n",
    "results = pd.DataFrame(grid_search.cv_results_)"
   ]
  },
  {
   "cell_type": "code",
   "execution_count": 40,
   "id": "9a7c2ea9",
   "metadata": {},
   "outputs": [
    {
     "name": "stdout",
     "output_type": "stream",
     "text": [
      "The best score is 0.9957390146471372\n",
      "The best parameters are:\n",
      " AdaBoostClassifier(learning_rate=0.1, n_estimators=500)\n"
     ]
    }
   ],
   "source": [
    "print(\"The best score is\", grid_search.best_score_) \n",
    "print(\"The best parameters are:\\n\", grid_search.best_estimator_)"
   ]
  },
  {
   "cell_type": "code",
   "execution_count": 41,
   "id": "9c5bbd4d",
   "metadata": {},
   "outputs": [],
   "source": [
    "param_grid ={'max_depth': [4, 6, 8, 10, 12], 'max_features': [1, 2, 3, 4]}\n",
    "dTree = DecisionTreeClassifier()\n",
    "grid_search=GridSearchCV(dTree, param_grid, cv=5,\n",
    "                           scoring='r2', \n",
    "                           return_train_score=True)\n",
    "grid_search.fit(xTrain, yTrain.values.ravel())\n",
    "results = pd.DataFrame(grid_search.cv_results_)"
   ]
  },
  {
   "cell_type": "code",
   "execution_count": 42,
   "id": "3c4f2c97",
   "metadata": {},
   "outputs": [
    {
     "name": "stdout",
     "output_type": "stream",
     "text": [
      "The best score is 0.9730429522909241\n",
      "The best parameters are:\n",
      " DecisionTreeClassifier(max_depth=8, max_features=4)\n"
     ]
    }
   ],
   "source": [
    "print(\"The best score is\", grid_search.best_score_) \n",
    "print(\"The best parameters are:\\n\", grid_search.best_estimator_)"
   ]
  },
  {
   "cell_type": "code",
   "execution_count": 43,
   "id": "59356122",
   "metadata": {},
   "outputs": [],
   "source": [
    "param_grid ={'max_depth': [4, 6, 8, 10, 12], 'n_estimators': [50, 100, 150, 200]}\n",
    "rForest = RandomForestClassifier()\n",
    "grid_search=GridSearchCV(rForest, param_grid, cv=5,\n",
    "                           scoring='r2', \n",
    "                           return_train_score=True)\n",
    "grid_search.fit(xTrain, yTrain.values.ravel())\n",
    "results = pd.DataFrame(grid_search.cv_results_)"
   ]
  },
  {
   "cell_type": "code",
   "execution_count": 44,
   "id": "a0a96819",
   "metadata": {},
   "outputs": [
    {
     "name": "stdout",
     "output_type": "stream",
     "text": [
      "The best score is 1.0\n",
      "The best parameters are:\n",
      " RandomForestClassifier(max_depth=6, n_estimators=50)\n"
     ]
    }
   ],
   "source": [
    "print(\"The best score is\", grid_search.best_score_) \n",
    "print(\"The best parameters are:\\n\", grid_search.best_estimator_)"
   ]
  },
  {
   "cell_type": "code",
   "execution_count": 45,
   "id": "64fc9ea5",
   "metadata": {},
   "outputs": [],
   "source": [
    "param_grid ={'n_neighbors': [2,3,4,8,11,20,25]}\n",
    "knnModel = KNeighborsClassifier() \n",
    "grid_search=GridSearchCV(knnModel, param_grid, cv=5,\n",
    "                           scoring='r2', \n",
    "                           return_train_score=True)\n",
    "grid_search.fit(xTrain, yTrain.values.ravel())\n",
    "results = pd.DataFrame(grid_search.cv_results_)"
   ]
  },
  {
   "cell_type": "code",
   "execution_count": 46,
   "id": "7ea33cc7",
   "metadata": {},
   "outputs": [
    {
     "name": "stdout",
     "output_type": "stream",
     "text": [
      "The best score is 0.959520639147803\n",
      "The best parameters are:\n",
      " KNeighborsClassifier(n_neighbors=3)\n"
     ]
    }
   ],
   "source": [
    "print(\"The best score is\", grid_search.best_score_) \n",
    "print(\"The best parameters are:\\n\", grid_search.best_estimator_)"
   ]
  }
 ],
 "metadata": {
  "kernelspec": {
   "display_name": "Python 3",
   "language": "python",
   "name": "python3"
  },
  "language_info": {
   "codemirror_mode": {
    "name": "ipython",
    "version": 3
   },
   "file_extension": ".py",
   "mimetype": "text/x-python",
   "name": "python",
   "nbconvert_exporter": "python",
   "pygments_lexer": "ipython3",
   "version": "3.8.8"
  }
 },
 "nbformat": 4,
 "nbformat_minor": 5
}
